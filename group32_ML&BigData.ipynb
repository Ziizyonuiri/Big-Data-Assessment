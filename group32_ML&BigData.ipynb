{
  "nbformat": 4,
  "nbformat_minor": 0,
  "metadata": {
    "colab": {
      "provenance": [],
      "mount_file_id": "1FD3JeXhwFJ3Iw4iXioNEerpInL9ZAQ79",
      "authorship_tag": "ABX9TyMyb3E+yo9hs4zLMyE2EZAz",
      "include_colab_link": true
    },
    "kernelspec": {
      "name": "python3",
      "display_name": "Python 3"
    },
    "language_info": {
      "name": "python"
    }
  },
  "cells": [
    {
      "cell_type": "markdown",
      "metadata": {
        "id": "view-in-github",
        "colab_type": "text"
      },
      "source": [
        "<a href=\"https://colab.research.google.com/github/ML-BDS-GROUP-32/airbnb-customer-experience/blob/main/group32_ML%26BigData.ipynb\" target=\"_parent\"><img src=\"https://colab.research.google.com/assets/colab-badge.svg\" alt=\"Open In Colab\"/></a>"
      ]
    },
    {
      "cell_type": "code",
      "execution_count": null,
      "metadata": {
        "id": "4z8fQVW1IJdO"
      },
      "outputs": [],
      "source": [
        "#Performing descriptive analysis by importing library packages\n",
        "import pandas as pd"
      ]
    },
    {
      "cell_type": "code",
      "source": [
        "path=\"/content/drive/MyDrive/Dataset/airbnbgroup32.csv\"\n",
        "df=pd.read_csv(path)"
      ],
      "metadata": {
        "id": "nqcZrMPmO004"
      },
      "execution_count": null,
      "outputs": []
    },
    {
      "cell_type": "code",
      "source": [
        "df.info()"
      ],
      "metadata": {
        "colab": {
          "base_uri": "https://localhost:8080/"
        },
        "id": "UKWr0PLpO0-w",
        "outputId": "0c4631b1-445e-42da-f9ab-3a1da46c4782"
      },
      "execution_count": null,
      "outputs": [
        {
          "output_type": "stream",
          "name": "stdout",
          "text": [
            "<class 'pandas.core.frame.DataFrame'>\n",
            "RangeIndex: 5379 entries, 0 to 5378\n",
            "Data columns (total 20 columns):\n",
            " #   Column                      Non-Null Count  Dtype  \n",
            "---  ------                      --------------  -----  \n",
            " 0   serial_no                   5379 non-null   int64  \n",
            " 1   realSum                     5379 non-null   float64\n",
            " 2   room_type                   5379 non-null   object \n",
            " 3   room_shared                 5379 non-null   bool   \n",
            " 4   room_private                5379 non-null   bool   \n",
            " 5   person_capacity             5379 non-null   int64  \n",
            " 6   host_is_superhost           5379 non-null   bool   \n",
            " 7   multi                       5379 non-null   int64  \n",
            " 8   biz                         5379 non-null   int64  \n",
            " 9   cleanliness_rating          5379 non-null   int64  \n",
            " 10  guest_satisfaction_overall  5379 non-null   int64  \n",
            " 11  bedrooms                    5379 non-null   int64  \n",
            " 12  dist                        5379 non-null   float64\n",
            " 13  metro_dist                  5379 non-null   float64\n",
            " 14  attr_index                  5379 non-null   float64\n",
            " 15  attr_index_norm             5379 non-null   float64\n",
            " 16  rest_index                  5379 non-null   float64\n",
            " 17  rest_index_norm             5379 non-null   float64\n",
            " 18  lng                         5379 non-null   float64\n",
            " 19  lat                         5379 non-null   float64\n",
            "dtypes: bool(3), float64(9), int64(7), object(1)\n",
            "memory usage: 730.3+ KB\n"
          ]
        }
      ]
    },
    {
      "cell_type": "code",
      "source": [
        "df.head()"
      ],
      "metadata": {
        "colab": {
          "base_uri": "https://localhost:8080/",
          "height": 357
        },
        "id": "hE7vwvHCO1GY",
        "outputId": "05cb533b-5257-4993-b49b-6da8e39ce33d"
      },
      "execution_count": null,
      "outputs": [
        {
          "output_type": "execute_result",
          "data": {
            "text/plain": [
              "   serial_no     realSum        room_type  room_shared  room_private  \\\n",
              "0          0  121.122322     Private room        False          True   \n",
              "1          1  195.912416     Private room        False          True   \n",
              "2          2  193.325337     Private room        False          True   \n",
              "3          3  180.389943     Private room        False          True   \n",
              "4          4  405.700981  Entire home/apt        False         False   \n",
              "\n",
              "   person_capacity  host_is_superhost  multi  biz  cleanliness_rating  \\\n",
              "0                2              False      0    0                   6   \n",
              "1                2              False      1    0                  10   \n",
              "2                3              False      1    0                  10   \n",
              "3                2              False      1    0                   9   \n",
              "4                3              False      0    1                   7   \n",
              "\n",
              "   guest_satisfaction_overall  bedrooms      dist  metro_dist  attr_index  \\\n",
              "0                          69         1  5.734117    0.437094  222.882243   \n",
              "1                          96         1  4.788905    1.464050  235.385841   \n",
              "2                          95         1  4.596677    0.450306  268.913812   \n",
              "3                          87         1  2.054769    0.132670  472.381314   \n",
              "4                          65         0  4.491277    0.354108  318.491470   \n",
              "\n",
              "   attr_index_norm   rest_index  rest_index_norm      lng       lat  \n",
              "0        15.493414   470.088503         8.413765 -0.04975  51.52570  \n",
              "1        16.362588   530.133525         9.488466 -0.08475  51.54210  \n",
              "2        18.693247   548.987610         9.825922 -0.14585  51.54802  \n",
              "3        32.837067  1021.271062        18.278973 -0.10611  51.52108  \n",
              "4        22.139584   692.775411        12.399473 -0.18797  51.49399  "
            ],
            "text/html": [
              "\n",
              "  <div id=\"df-e2759ae1-076e-4f43-877d-95db0a9c88b4\">\n",
              "    <div class=\"colab-df-container\">\n",
              "      <div>\n",
              "<style scoped>\n",
              "    .dataframe tbody tr th:only-of-type {\n",
              "        vertical-align: middle;\n",
              "    }\n",
              "\n",
              "    .dataframe tbody tr th {\n",
              "        vertical-align: top;\n",
              "    }\n",
              "\n",
              "    .dataframe thead th {\n",
              "        text-align: right;\n",
              "    }\n",
              "</style>\n",
              "<table border=\"1\" class=\"dataframe\">\n",
              "  <thead>\n",
              "    <tr style=\"text-align: right;\">\n",
              "      <th></th>\n",
              "      <th>serial_no</th>\n",
              "      <th>realSum</th>\n",
              "      <th>room_type</th>\n",
              "      <th>room_shared</th>\n",
              "      <th>room_private</th>\n",
              "      <th>person_capacity</th>\n",
              "      <th>host_is_superhost</th>\n",
              "      <th>multi</th>\n",
              "      <th>biz</th>\n",
              "      <th>cleanliness_rating</th>\n",
              "      <th>guest_satisfaction_overall</th>\n",
              "      <th>bedrooms</th>\n",
              "      <th>dist</th>\n",
              "      <th>metro_dist</th>\n",
              "      <th>attr_index</th>\n",
              "      <th>attr_index_norm</th>\n",
              "      <th>rest_index</th>\n",
              "      <th>rest_index_norm</th>\n",
              "      <th>lng</th>\n",
              "      <th>lat</th>\n",
              "    </tr>\n",
              "  </thead>\n",
              "  <tbody>\n",
              "    <tr>\n",
              "      <th>0</th>\n",
              "      <td>0</td>\n",
              "      <td>121.122322</td>\n",
              "      <td>Private room</td>\n",
              "      <td>False</td>\n",
              "      <td>True</td>\n",
              "      <td>2</td>\n",
              "      <td>False</td>\n",
              "      <td>0</td>\n",
              "      <td>0</td>\n",
              "      <td>6</td>\n",
              "      <td>69</td>\n",
              "      <td>1</td>\n",
              "      <td>5.734117</td>\n",
              "      <td>0.437094</td>\n",
              "      <td>222.882243</td>\n",
              "      <td>15.493414</td>\n",
              "      <td>470.088503</td>\n",
              "      <td>8.413765</td>\n",
              "      <td>-0.04975</td>\n",
              "      <td>51.52570</td>\n",
              "    </tr>\n",
              "    <tr>\n",
              "      <th>1</th>\n",
              "      <td>1</td>\n",
              "      <td>195.912416</td>\n",
              "      <td>Private room</td>\n",
              "      <td>False</td>\n",
              "      <td>True</td>\n",
              "      <td>2</td>\n",
              "      <td>False</td>\n",
              "      <td>1</td>\n",
              "      <td>0</td>\n",
              "      <td>10</td>\n",
              "      <td>96</td>\n",
              "      <td>1</td>\n",
              "      <td>4.788905</td>\n",
              "      <td>1.464050</td>\n",
              "      <td>235.385841</td>\n",
              "      <td>16.362588</td>\n",
              "      <td>530.133525</td>\n",
              "      <td>9.488466</td>\n",
              "      <td>-0.08475</td>\n",
              "      <td>51.54210</td>\n",
              "    </tr>\n",
              "    <tr>\n",
              "      <th>2</th>\n",
              "      <td>2</td>\n",
              "      <td>193.325337</td>\n",
              "      <td>Private room</td>\n",
              "      <td>False</td>\n",
              "      <td>True</td>\n",
              "      <td>3</td>\n",
              "      <td>False</td>\n",
              "      <td>1</td>\n",
              "      <td>0</td>\n",
              "      <td>10</td>\n",
              "      <td>95</td>\n",
              "      <td>1</td>\n",
              "      <td>4.596677</td>\n",
              "      <td>0.450306</td>\n",
              "      <td>268.913812</td>\n",
              "      <td>18.693247</td>\n",
              "      <td>548.987610</td>\n",
              "      <td>9.825922</td>\n",
              "      <td>-0.14585</td>\n",
              "      <td>51.54802</td>\n",
              "    </tr>\n",
              "    <tr>\n",
              "      <th>3</th>\n",
              "      <td>3</td>\n",
              "      <td>180.389943</td>\n",
              "      <td>Private room</td>\n",
              "      <td>False</td>\n",
              "      <td>True</td>\n",
              "      <td>2</td>\n",
              "      <td>False</td>\n",
              "      <td>1</td>\n",
              "      <td>0</td>\n",
              "      <td>9</td>\n",
              "      <td>87</td>\n",
              "      <td>1</td>\n",
              "      <td>2.054769</td>\n",
              "      <td>0.132670</td>\n",
              "      <td>472.381314</td>\n",
              "      <td>32.837067</td>\n",
              "      <td>1021.271062</td>\n",
              "      <td>18.278973</td>\n",
              "      <td>-0.10611</td>\n",
              "      <td>51.52108</td>\n",
              "    </tr>\n",
              "    <tr>\n",
              "      <th>4</th>\n",
              "      <td>4</td>\n",
              "      <td>405.700981</td>\n",
              "      <td>Entire home/apt</td>\n",
              "      <td>False</td>\n",
              "      <td>False</td>\n",
              "      <td>3</td>\n",
              "      <td>False</td>\n",
              "      <td>0</td>\n",
              "      <td>1</td>\n",
              "      <td>7</td>\n",
              "      <td>65</td>\n",
              "      <td>0</td>\n",
              "      <td>4.491277</td>\n",
              "      <td>0.354108</td>\n",
              "      <td>318.491470</td>\n",
              "      <td>22.139584</td>\n",
              "      <td>692.775411</td>\n",
              "      <td>12.399473</td>\n",
              "      <td>-0.18797</td>\n",
              "      <td>51.49399</td>\n",
              "    </tr>\n",
              "  </tbody>\n",
              "</table>\n",
              "</div>\n",
              "      <button class=\"colab-df-convert\" onclick=\"convertToInteractive('df-e2759ae1-076e-4f43-877d-95db0a9c88b4')\"\n",
              "              title=\"Convert this dataframe to an interactive table.\"\n",
              "              style=\"display:none;\">\n",
              "        \n",
              "  <svg xmlns=\"http://www.w3.org/2000/svg\" height=\"24px\"viewBox=\"0 0 24 24\"\n",
              "       width=\"24px\">\n",
              "    <path d=\"M0 0h24v24H0V0z\" fill=\"none\"/>\n",
              "    <path d=\"M18.56 5.44l.94 2.06.94-2.06 2.06-.94-2.06-.94-.94-2.06-.94 2.06-2.06.94zm-11 1L8.5 8.5l.94-2.06 2.06-.94-2.06-.94L8.5 2.5l-.94 2.06-2.06.94zm10 10l.94 2.06.94-2.06 2.06-.94-2.06-.94-.94-2.06-.94 2.06-2.06.94z\"/><path d=\"M17.41 7.96l-1.37-1.37c-.4-.4-.92-.59-1.43-.59-.52 0-1.04.2-1.43.59L10.3 9.45l-7.72 7.72c-.78.78-.78 2.05 0 2.83L4 21.41c.39.39.9.59 1.41.59.51 0 1.02-.2 1.41-.59l7.78-7.78 2.81-2.81c.8-.78.8-2.07 0-2.86zM5.41 20L4 18.59l7.72-7.72 1.47 1.35L5.41 20z\"/>\n",
              "  </svg>\n",
              "      </button>\n",
              "      \n",
              "  <style>\n",
              "    .colab-df-container {\n",
              "      display:flex;\n",
              "      flex-wrap:wrap;\n",
              "      gap: 12px;\n",
              "    }\n",
              "\n",
              "    .colab-df-convert {\n",
              "      background-color: #E8F0FE;\n",
              "      border: none;\n",
              "      border-radius: 50%;\n",
              "      cursor: pointer;\n",
              "      display: none;\n",
              "      fill: #1967D2;\n",
              "      height: 32px;\n",
              "      padding: 0 0 0 0;\n",
              "      width: 32px;\n",
              "    }\n",
              "\n",
              "    .colab-df-convert:hover {\n",
              "      background-color: #E2EBFA;\n",
              "      box-shadow: 0px 1px 2px rgba(60, 64, 67, 0.3), 0px 1px 3px 1px rgba(60, 64, 67, 0.15);\n",
              "      fill: #174EA6;\n",
              "    }\n",
              "\n",
              "    [theme=dark] .colab-df-convert {\n",
              "      background-color: #3B4455;\n",
              "      fill: #D2E3FC;\n",
              "    }\n",
              "\n",
              "    [theme=dark] .colab-df-convert:hover {\n",
              "      background-color: #434B5C;\n",
              "      box-shadow: 0px 1px 3px 1px rgba(0, 0, 0, 0.15);\n",
              "      filter: drop-shadow(0px 1px 2px rgba(0, 0, 0, 0.3));\n",
              "      fill: #FFFFFF;\n",
              "    }\n",
              "  </style>\n",
              "\n",
              "      <script>\n",
              "        const buttonEl =\n",
              "          document.querySelector('#df-e2759ae1-076e-4f43-877d-95db0a9c88b4 button.colab-df-convert');\n",
              "        buttonEl.style.display =\n",
              "          google.colab.kernel.accessAllowed ? 'block' : 'none';\n",
              "\n",
              "        async function convertToInteractive(key) {\n",
              "          const element = document.querySelector('#df-e2759ae1-076e-4f43-877d-95db0a9c88b4');\n",
              "          const dataTable =\n",
              "            await google.colab.kernel.invokeFunction('convertToInteractive',\n",
              "                                                     [key], {});\n",
              "          if (!dataTable) return;\n",
              "\n",
              "          const docLinkHtml = 'Like what you see? Visit the ' +\n",
              "            '<a target=\"_blank\" href=https://colab.research.google.com/notebooks/data_table.ipynb>data table notebook</a>'\n",
              "            + ' to learn more about interactive tables.';\n",
              "          element.innerHTML = '';\n",
              "          dataTable['output_type'] = 'display_data';\n",
              "          await google.colab.output.renderOutput(dataTable, element);\n",
              "          const docLink = document.createElement('div');\n",
              "          docLink.innerHTML = docLinkHtml;\n",
              "          element.appendChild(docLink);\n",
              "        }\n",
              "      </script>\n",
              "    </div>\n",
              "  </div>\n",
              "  "
            ]
          },
          "metadata": {},
          "execution_count": 6
        }
      ]
    },
    {
      "cell_type": "code",
      "source": [
        "#Data cleaning process\n",
        "#Reducing the observation to 1000rows\n",
        "df=df.iloc[:1000]"
      ],
      "metadata": {
        "id": "9sr1aR8xO1Ny"
      },
      "execution_count": null,
      "outputs": []
    },
    {
      "cell_type": "code",
      "source": [
        "df.info()"
      ],
      "metadata": {
        "colab": {
          "base_uri": "https://localhost:8080/"
        },
        "id": "k175U9s5O1XI",
        "outputId": "d43eb8aa-72eb-474e-993e-d06a784aa3cb"
      },
      "execution_count": null,
      "outputs": [
        {
          "output_type": "stream",
          "name": "stdout",
          "text": [
            "<class 'pandas.core.frame.DataFrame'>\n",
            "RangeIndex: 1000 entries, 0 to 999\n",
            "Data columns (total 20 columns):\n",
            " #   Column                      Non-Null Count  Dtype  \n",
            "---  ------                      --------------  -----  \n",
            " 0   serial_no                   1000 non-null   int64  \n",
            " 1   realSum                     1000 non-null   float64\n",
            " 2   room_type                   1000 non-null   object \n",
            " 3   room_shared                 1000 non-null   bool   \n",
            " 4   room_private                1000 non-null   bool   \n",
            " 5   person_capacity             1000 non-null   int64  \n",
            " 6   host_is_superhost           1000 non-null   bool   \n",
            " 7   multi                       1000 non-null   int64  \n",
            " 8   biz                         1000 non-null   int64  \n",
            " 9   cleanliness_rating          1000 non-null   int64  \n",
            " 10  guest_satisfaction_overall  1000 non-null   int64  \n",
            " 11  bedrooms                    1000 non-null   int64  \n",
            " 12  dist                        1000 non-null   float64\n",
            " 13  metro_dist                  1000 non-null   float64\n",
            " 14  attr_index                  1000 non-null   float64\n",
            " 15  attr_index_norm             1000 non-null   float64\n",
            " 16  rest_index                  1000 non-null   float64\n",
            " 17  rest_index_norm             1000 non-null   float64\n",
            " 18  lng                         1000 non-null   float64\n",
            " 19  lat                         1000 non-null   float64\n",
            "dtypes: bool(3), float64(9), int64(7), object(1)\n",
            "memory usage: 135.9+ KB\n"
          ]
        }
      ]
    },
    {
      "cell_type": "code",
      "source": [
        "#Removing irrelavant features from the columns\n",
        "df=df.drop (['serial_no','room_shared','room_private','person_capacity','multi','biz','room_type','dist','attr_index','attr_index_norm','rest_index','rest_index_norm','lng','lat'], axis=1)"
      ],
      "metadata": {
        "id": "y-Y_ZbuDO1fk"
      },
      "execution_count": null,
      "outputs": []
    },
    {
      "cell_type": "code",
      "source": [
        "df.info()"
      ],
      "metadata": {
        "colab": {
          "base_uri": "https://localhost:8080/"
        },
        "id": "gZ84a573O1oI",
        "outputId": "f625fe67-9614-473d-a08f-f68e9c293d94"
      },
      "execution_count": null,
      "outputs": [
        {
          "output_type": "stream",
          "name": "stdout",
          "text": [
            "<class 'pandas.core.frame.DataFrame'>\n",
            "RangeIndex: 1000 entries, 0 to 999\n",
            "Data columns (total 6 columns):\n",
            " #   Column                      Non-Null Count  Dtype  \n",
            "---  ------                      --------------  -----  \n",
            " 0   realSum                     1000 non-null   float64\n",
            " 1   host_is_superhost           1000 non-null   bool   \n",
            " 2   cleanliness_rating          1000 non-null   int64  \n",
            " 3   guest_satisfaction_overall  1000 non-null   int64  \n",
            " 4   bedrooms                    1000 non-null   int64  \n",
            " 5   metro_dist                  1000 non-null   float64\n",
            "dtypes: bool(1), float64(2), int64(3)\n",
            "memory usage: 40.2 KB\n"
          ]
        }
      ]
    },
    {
      "cell_type": "code",
      "source": [
        "#Removing void or null values\n",
        "df.isnull().sum()"
      ],
      "metadata": {
        "colab": {
          "base_uri": "https://localhost:8080/"
        },
        "id": "s0HjBMXdRMn9",
        "outputId": "fa34bd8a-ed85-46b6-8ba1-6e1054581338"
      },
      "execution_count": null,
      "outputs": [
        {
          "output_type": "execute_result",
          "data": {
            "text/plain": [
              "realSum                       0\n",
              "host_is_superhost             0\n",
              "cleanliness_rating            0\n",
              "guest_satisfaction_overall    0\n",
              "bedrooms                      0\n",
              "metro_dist                    0\n",
              "dtype: int64"
            ]
          },
          "metadata": {},
          "execution_count": 11
        }
      ]
    },
    {
      "cell_type": "code",
      "source": [
        "df.head()"
      ],
      "metadata": {
        "colab": {
          "base_uri": "https://localhost:8080/",
          "height": 206
        },
        "id": "ScTHp-_2RMxv",
        "outputId": "a53a81bb-e63c-486e-8617-22ba5cf80cc9"
      },
      "execution_count": null,
      "outputs": [
        {
          "output_type": "execute_result",
          "data": {
            "text/plain": [
              "      realSum  host_is_superhost  cleanliness_rating  \\\n",
              "0  121.122322              False                   6   \n",
              "1  195.912416              False                  10   \n",
              "2  193.325337              False                  10   \n",
              "3  180.389943              False                   9   \n",
              "4  405.700981              False                   7   \n",
              "\n",
              "   guest_satisfaction_overall  bedrooms  metro_dist  \n",
              "0                          69         1    0.437094  \n",
              "1                          96         1    1.464050  \n",
              "2                          95         1    0.450306  \n",
              "3                          87         1    0.132670  \n",
              "4                          65         0    0.354108  "
            ],
            "text/html": [
              "\n",
              "  <div id=\"df-590a41f8-7e38-4148-a6aa-240e57245e0b\">\n",
              "    <div class=\"colab-df-container\">\n",
              "      <div>\n",
              "<style scoped>\n",
              "    .dataframe tbody tr th:only-of-type {\n",
              "        vertical-align: middle;\n",
              "    }\n",
              "\n",
              "    .dataframe tbody tr th {\n",
              "        vertical-align: top;\n",
              "    }\n",
              "\n",
              "    .dataframe thead th {\n",
              "        text-align: right;\n",
              "    }\n",
              "</style>\n",
              "<table border=\"1\" class=\"dataframe\">\n",
              "  <thead>\n",
              "    <tr style=\"text-align: right;\">\n",
              "      <th></th>\n",
              "      <th>realSum</th>\n",
              "      <th>host_is_superhost</th>\n",
              "      <th>cleanliness_rating</th>\n",
              "      <th>guest_satisfaction_overall</th>\n",
              "      <th>bedrooms</th>\n",
              "      <th>metro_dist</th>\n",
              "    </tr>\n",
              "  </thead>\n",
              "  <tbody>\n",
              "    <tr>\n",
              "      <th>0</th>\n",
              "      <td>121.122322</td>\n",
              "      <td>False</td>\n",
              "      <td>6</td>\n",
              "      <td>69</td>\n",
              "      <td>1</td>\n",
              "      <td>0.437094</td>\n",
              "    </tr>\n",
              "    <tr>\n",
              "      <th>1</th>\n",
              "      <td>195.912416</td>\n",
              "      <td>False</td>\n",
              "      <td>10</td>\n",
              "      <td>96</td>\n",
              "      <td>1</td>\n",
              "      <td>1.464050</td>\n",
              "    </tr>\n",
              "    <tr>\n",
              "      <th>2</th>\n",
              "      <td>193.325337</td>\n",
              "      <td>False</td>\n",
              "      <td>10</td>\n",
              "      <td>95</td>\n",
              "      <td>1</td>\n",
              "      <td>0.450306</td>\n",
              "    </tr>\n",
              "    <tr>\n",
              "      <th>3</th>\n",
              "      <td>180.389943</td>\n",
              "      <td>False</td>\n",
              "      <td>9</td>\n",
              "      <td>87</td>\n",
              "      <td>1</td>\n",
              "      <td>0.132670</td>\n",
              "    </tr>\n",
              "    <tr>\n",
              "      <th>4</th>\n",
              "      <td>405.700981</td>\n",
              "      <td>False</td>\n",
              "      <td>7</td>\n",
              "      <td>65</td>\n",
              "      <td>0</td>\n",
              "      <td>0.354108</td>\n",
              "    </tr>\n",
              "  </tbody>\n",
              "</table>\n",
              "</div>\n",
              "      <button class=\"colab-df-convert\" onclick=\"convertToInteractive('df-590a41f8-7e38-4148-a6aa-240e57245e0b')\"\n",
              "              title=\"Convert this dataframe to an interactive table.\"\n",
              "              style=\"display:none;\">\n",
              "        \n",
              "  <svg xmlns=\"http://www.w3.org/2000/svg\" height=\"24px\"viewBox=\"0 0 24 24\"\n",
              "       width=\"24px\">\n",
              "    <path d=\"M0 0h24v24H0V0z\" fill=\"none\"/>\n",
              "    <path d=\"M18.56 5.44l.94 2.06.94-2.06 2.06-.94-2.06-.94-.94-2.06-.94 2.06-2.06.94zm-11 1L8.5 8.5l.94-2.06 2.06-.94-2.06-.94L8.5 2.5l-.94 2.06-2.06.94zm10 10l.94 2.06.94-2.06 2.06-.94-2.06-.94-.94-2.06-.94 2.06-2.06.94z\"/><path d=\"M17.41 7.96l-1.37-1.37c-.4-.4-.92-.59-1.43-.59-.52 0-1.04.2-1.43.59L10.3 9.45l-7.72 7.72c-.78.78-.78 2.05 0 2.83L4 21.41c.39.39.9.59 1.41.59.51 0 1.02-.2 1.41-.59l7.78-7.78 2.81-2.81c.8-.78.8-2.07 0-2.86zM5.41 20L4 18.59l7.72-7.72 1.47 1.35L5.41 20z\"/>\n",
              "  </svg>\n",
              "      </button>\n",
              "      \n",
              "  <style>\n",
              "    .colab-df-container {\n",
              "      display:flex;\n",
              "      flex-wrap:wrap;\n",
              "      gap: 12px;\n",
              "    }\n",
              "\n",
              "    .colab-df-convert {\n",
              "      background-color: #E8F0FE;\n",
              "      border: none;\n",
              "      border-radius: 50%;\n",
              "      cursor: pointer;\n",
              "      display: none;\n",
              "      fill: #1967D2;\n",
              "      height: 32px;\n",
              "      padding: 0 0 0 0;\n",
              "      width: 32px;\n",
              "    }\n",
              "\n",
              "    .colab-df-convert:hover {\n",
              "      background-color: #E2EBFA;\n",
              "      box-shadow: 0px 1px 2px rgba(60, 64, 67, 0.3), 0px 1px 3px 1px rgba(60, 64, 67, 0.15);\n",
              "      fill: #174EA6;\n",
              "    }\n",
              "\n",
              "    [theme=dark] .colab-df-convert {\n",
              "      background-color: #3B4455;\n",
              "      fill: #D2E3FC;\n",
              "    }\n",
              "\n",
              "    [theme=dark] .colab-df-convert:hover {\n",
              "      background-color: #434B5C;\n",
              "      box-shadow: 0px 1px 3px 1px rgba(0, 0, 0, 0.15);\n",
              "      filter: drop-shadow(0px 1px 2px rgba(0, 0, 0, 0.3));\n",
              "      fill: #FFFFFF;\n",
              "    }\n",
              "  </style>\n",
              "\n",
              "      <script>\n",
              "        const buttonEl =\n",
              "          document.querySelector('#df-590a41f8-7e38-4148-a6aa-240e57245e0b button.colab-df-convert');\n",
              "        buttonEl.style.display =\n",
              "          google.colab.kernel.accessAllowed ? 'block' : 'none';\n",
              "\n",
              "        async function convertToInteractive(key) {\n",
              "          const element = document.querySelector('#df-590a41f8-7e38-4148-a6aa-240e57245e0b');\n",
              "          const dataTable =\n",
              "            await google.colab.kernel.invokeFunction('convertToInteractive',\n",
              "                                                     [key], {});\n",
              "          if (!dataTable) return;\n",
              "\n",
              "          const docLinkHtml = 'Like what you see? Visit the ' +\n",
              "            '<a target=\"_blank\" href=https://colab.research.google.com/notebooks/data_table.ipynb>data table notebook</a>'\n",
              "            + ' to learn more about interactive tables.';\n",
              "          element.innerHTML = '';\n",
              "          dataTable['output_type'] = 'display_data';\n",
              "          await google.colab.output.renderOutput(dataTable, element);\n",
              "          const docLink = document.createElement('div');\n",
              "          docLink.innerHTML = docLinkHtml;\n",
              "          element.appendChild(docLink);\n",
              "        }\n",
              "      </script>\n",
              "    </div>\n",
              "  </div>\n",
              "  "
            ]
          },
          "metadata": {},
          "execution_count": 12
        }
      ]
    },
    {
      "cell_type": "code",
      "source": [
        "#DESCRIPTIVE ANALYSIS"
      ],
      "metadata": {
        "id": "SnAHYCVAflwG"
      },
      "execution_count": null,
      "outputs": []
    },
    {
      "cell_type": "code",
      "source": [
        "#Performing descriptive analysis\n",
        "print(len(df),\"\\n\")"
      ],
      "metadata": {
        "colab": {
          "base_uri": "https://localhost:8080/"
        },
        "id": "04d5YH2pRqa1",
        "outputId": "47d472c2-2f5f-456c-bc69-a0d2ecc3189e"
      },
      "execution_count": null,
      "outputs": [
        {
          "output_type": "stream",
          "name": "stdout",
          "text": [
            "1000 \n",
            "\n"
          ]
        }
      ]
    },
    {
      "cell_type": "code",
      "source": [
        "print(df.shape,\"\\n\")"
      ],
      "metadata": {
        "colab": {
          "base_uri": "https://localhost:8080/"
        },
        "id": "GZ5TL9toRqjc",
        "outputId": "2d086b43-6056-489f-cb54-f55d42b63857"
      },
      "execution_count": null,
      "outputs": [
        {
          "output_type": "stream",
          "name": "stdout",
          "text": [
            "(1000, 6) \n",
            "\n"
          ]
        }
      ]
    },
    {
      "cell_type": "code",
      "source": [
        "print(df.index,\"\\n\")"
      ],
      "metadata": {
        "colab": {
          "base_uri": "https://localhost:8080/"
        },
        "id": "rc0jiQyuRqsV",
        "outputId": "88e72642-2cb7-4a2b-9896-42d04b4178db"
      },
      "execution_count": null,
      "outputs": [
        {
          "output_type": "stream",
          "name": "stdout",
          "text": [
            "RangeIndex(start=0, stop=1000, step=1) \n",
            "\n"
          ]
        }
      ]
    },
    {
      "cell_type": "code",
      "source": [
        "print(df.columns,\"\\n\")"
      ],
      "metadata": {
        "colab": {
          "base_uri": "https://localhost:8080/"
        },
        "id": "ac6i6RIORM_q",
        "outputId": "04c98b55-733d-4544-8de5-487d97983560"
      },
      "execution_count": null,
      "outputs": [
        {
          "output_type": "stream",
          "name": "stdout",
          "text": [
            "Index(['realSum', 'host_is_superhost', 'cleanliness_rating',\n",
            "       'guest_satisfaction_overall', 'bedrooms', 'metro_dist'],\n",
            "      dtype='object') \n",
            "\n"
          ]
        }
      ]
    },
    {
      "cell_type": "code",
      "source": [
        "print(df.info(),\"\\n\")"
      ],
      "metadata": {
        "colab": {
          "base_uri": "https://localhost:8080/"
        },
        "id": "Jtv0ihyaO1wa",
        "outputId": "f977b690-8a86-492e-c7e9-4b8f4dfbd544"
      },
      "execution_count": null,
      "outputs": [
        {
          "output_type": "stream",
          "name": "stdout",
          "text": [
            "<class 'pandas.core.frame.DataFrame'>\n",
            "RangeIndex: 1000 entries, 0 to 999\n",
            "Data columns (total 6 columns):\n",
            " #   Column                      Non-Null Count  Dtype  \n",
            "---  ------                      --------------  -----  \n",
            " 0   realSum                     1000 non-null   float64\n",
            " 1   host_is_superhost           1000 non-null   bool   \n",
            " 2   cleanliness_rating          1000 non-null   int64  \n",
            " 3   guest_satisfaction_overall  1000 non-null   int64  \n",
            " 4   bedrooms                    1000 non-null   int64  \n",
            " 5   metro_dist                  1000 non-null   float64\n",
            "dtypes: bool(1), float64(2), int64(3)\n",
            "memory usage: 40.2 KB\n",
            "None \n",
            "\n"
          ]
        }
      ]
    },
    {
      "cell_type": "code",
      "source": [
        "print(df.count(),\"\\n\")\n"
      ],
      "metadata": {
        "colab": {
          "base_uri": "https://localhost:8080/"
        },
        "id": "1HUljY3OSgpL",
        "outputId": "4eaed5ac-5acd-400a-b029-5ae1e8ed34f3"
      },
      "execution_count": null,
      "outputs": [
        {
          "output_type": "stream",
          "name": "stdout",
          "text": [
            "realSum                       1000\n",
            "host_is_superhost             1000\n",
            "cleanliness_rating            1000\n",
            "guest_satisfaction_overall    1000\n",
            "bedrooms                      1000\n",
            "metro_dist                    1000\n",
            "dtype: int64 \n",
            "\n"
          ]
        }
      ]
    },
    {
      "cell_type": "code",
      "source": [
        "df.describe"
      ],
      "metadata": {
        "colab": {
          "base_uri": "https://localhost:8080/"
        },
        "id": "5XWzjUX9Sg4y",
        "outputId": "35a9d720-6186-4a1b-dd45-aec914353ae7"
      },
      "execution_count": null,
      "outputs": [
        {
          "output_type": "execute_result",
          "data": {
            "text/plain": [
              "<bound method NDFrame.describe of         realSum  host_is_superhost  cleanliness_rating  \\\n",
              "0    121.122322              False                   6   \n",
              "1    195.912416              False                  10   \n",
              "2    193.325337              False                  10   \n",
              "3    180.389943              False                   9   \n",
              "4    405.700981              False                   7   \n",
              "..          ...                ...                 ...   \n",
              "995  173.804652              False                  10   \n",
              "996  128.883558              False                   8   \n",
              "997  151.932077               True                  10   \n",
              "998  270.702510               True                  10   \n",
              "999  399.586067               True                  10   \n",
              "\n",
              "     guest_satisfaction_overall  bedrooms  metro_dist  \n",
              "0                            69         1    0.437094  \n",
              "1                            96         1    1.464050  \n",
              "2                            95         1    0.450306  \n",
              "3                            87         1    0.132670  \n",
              "4                            65         0    0.354108  \n",
              "..                          ...       ...         ...  \n",
              "995                         100         1    1.036780  \n",
              "996                          92         1    0.382086  \n",
              "997                          97         1    0.506462  \n",
              "998                          98         1    0.868965  \n",
              "999                          95         1    1.043194  \n",
              "\n",
              "[1000 rows x 6 columns]>"
            ]
          },
          "metadata": {},
          "execution_count": 20
        }
      ]
    },
    {
      "cell_type": "code",
      "source": [
        "df.describe()"
      ],
      "metadata": {
        "colab": {
          "base_uri": "https://localhost:8080/",
          "height": 300
        },
        "id": "bxmR_gFEShCb",
        "outputId": "306f941e-276b-44b4-eba0-7c785db0db0c"
      },
      "execution_count": null,
      "outputs": [
        {
          "output_type": "execute_result",
          "data": {
            "text/plain": [
              "            realSum  cleanliness_rating  guest_satisfaction_overall  \\\n",
              "count   1000.000000         1000.000000                 1000.000000   \n",
              "mean     353.998683            9.216000                   91.619000   \n",
              "std      482.703851            1.037507                    9.177694   \n",
              "min       56.680543            2.000000                   20.000000   \n",
              "25%      164.867471            9.000000                   88.000000   \n",
              "50%      255.180037            9.000000                   94.000000   \n",
              "75%      412.639055           10.000000                   98.000000   \n",
              "max    12048.731160           10.000000                  100.000000   \n",
              "\n",
              "          bedrooms   metro_dist  \n",
              "count  1000.000000  1000.000000  \n",
              "mean      1.123000     1.114526  \n",
              "std       0.596848     1.439830  \n",
              "min       0.000000     0.036652  \n",
              "25%       1.000000     0.323918  \n",
              "50%       1.000000     0.561647  \n",
              "75%       1.000000     1.145951  \n",
              "max       8.000000     8.894176  "
            ],
            "text/html": [
              "\n",
              "  <div id=\"df-5ca79302-3a08-495b-8e4a-275bf7e4ab53\">\n",
              "    <div class=\"colab-df-container\">\n",
              "      <div>\n",
              "<style scoped>\n",
              "    .dataframe tbody tr th:only-of-type {\n",
              "        vertical-align: middle;\n",
              "    }\n",
              "\n",
              "    .dataframe tbody tr th {\n",
              "        vertical-align: top;\n",
              "    }\n",
              "\n",
              "    .dataframe thead th {\n",
              "        text-align: right;\n",
              "    }\n",
              "</style>\n",
              "<table border=\"1\" class=\"dataframe\">\n",
              "  <thead>\n",
              "    <tr style=\"text-align: right;\">\n",
              "      <th></th>\n",
              "      <th>realSum</th>\n",
              "      <th>cleanliness_rating</th>\n",
              "      <th>guest_satisfaction_overall</th>\n",
              "      <th>bedrooms</th>\n",
              "      <th>metro_dist</th>\n",
              "    </tr>\n",
              "  </thead>\n",
              "  <tbody>\n",
              "    <tr>\n",
              "      <th>count</th>\n",
              "      <td>1000.000000</td>\n",
              "      <td>1000.000000</td>\n",
              "      <td>1000.000000</td>\n",
              "      <td>1000.000000</td>\n",
              "      <td>1000.000000</td>\n",
              "    </tr>\n",
              "    <tr>\n",
              "      <th>mean</th>\n",
              "      <td>353.998683</td>\n",
              "      <td>9.216000</td>\n",
              "      <td>91.619000</td>\n",
              "      <td>1.123000</td>\n",
              "      <td>1.114526</td>\n",
              "    </tr>\n",
              "    <tr>\n",
              "      <th>std</th>\n",
              "      <td>482.703851</td>\n",
              "      <td>1.037507</td>\n",
              "      <td>9.177694</td>\n",
              "      <td>0.596848</td>\n",
              "      <td>1.439830</td>\n",
              "    </tr>\n",
              "    <tr>\n",
              "      <th>min</th>\n",
              "      <td>56.680543</td>\n",
              "      <td>2.000000</td>\n",
              "      <td>20.000000</td>\n",
              "      <td>0.000000</td>\n",
              "      <td>0.036652</td>\n",
              "    </tr>\n",
              "    <tr>\n",
              "      <th>25%</th>\n",
              "      <td>164.867471</td>\n",
              "      <td>9.000000</td>\n",
              "      <td>88.000000</td>\n",
              "      <td>1.000000</td>\n",
              "      <td>0.323918</td>\n",
              "    </tr>\n",
              "    <tr>\n",
              "      <th>50%</th>\n",
              "      <td>255.180037</td>\n",
              "      <td>9.000000</td>\n",
              "      <td>94.000000</td>\n",
              "      <td>1.000000</td>\n",
              "      <td>0.561647</td>\n",
              "    </tr>\n",
              "    <tr>\n",
              "      <th>75%</th>\n",
              "      <td>412.639055</td>\n",
              "      <td>10.000000</td>\n",
              "      <td>98.000000</td>\n",
              "      <td>1.000000</td>\n",
              "      <td>1.145951</td>\n",
              "    </tr>\n",
              "    <tr>\n",
              "      <th>max</th>\n",
              "      <td>12048.731160</td>\n",
              "      <td>10.000000</td>\n",
              "      <td>100.000000</td>\n",
              "      <td>8.000000</td>\n",
              "      <td>8.894176</td>\n",
              "    </tr>\n",
              "  </tbody>\n",
              "</table>\n",
              "</div>\n",
              "      <button class=\"colab-df-convert\" onclick=\"convertToInteractive('df-5ca79302-3a08-495b-8e4a-275bf7e4ab53')\"\n",
              "              title=\"Convert this dataframe to an interactive table.\"\n",
              "              style=\"display:none;\">\n",
              "        \n",
              "  <svg xmlns=\"http://www.w3.org/2000/svg\" height=\"24px\"viewBox=\"0 0 24 24\"\n",
              "       width=\"24px\">\n",
              "    <path d=\"M0 0h24v24H0V0z\" fill=\"none\"/>\n",
              "    <path d=\"M18.56 5.44l.94 2.06.94-2.06 2.06-.94-2.06-.94-.94-2.06-.94 2.06-2.06.94zm-11 1L8.5 8.5l.94-2.06 2.06-.94-2.06-.94L8.5 2.5l-.94 2.06-2.06.94zm10 10l.94 2.06.94-2.06 2.06-.94-2.06-.94-.94-2.06-.94 2.06-2.06.94z\"/><path d=\"M17.41 7.96l-1.37-1.37c-.4-.4-.92-.59-1.43-.59-.52 0-1.04.2-1.43.59L10.3 9.45l-7.72 7.72c-.78.78-.78 2.05 0 2.83L4 21.41c.39.39.9.59 1.41.59.51 0 1.02-.2 1.41-.59l7.78-7.78 2.81-2.81c.8-.78.8-2.07 0-2.86zM5.41 20L4 18.59l7.72-7.72 1.47 1.35L5.41 20z\"/>\n",
              "  </svg>\n",
              "      </button>\n",
              "      \n",
              "  <style>\n",
              "    .colab-df-container {\n",
              "      display:flex;\n",
              "      flex-wrap:wrap;\n",
              "      gap: 12px;\n",
              "    }\n",
              "\n",
              "    .colab-df-convert {\n",
              "      background-color: #E8F0FE;\n",
              "      border: none;\n",
              "      border-radius: 50%;\n",
              "      cursor: pointer;\n",
              "      display: none;\n",
              "      fill: #1967D2;\n",
              "      height: 32px;\n",
              "      padding: 0 0 0 0;\n",
              "      width: 32px;\n",
              "    }\n",
              "\n",
              "    .colab-df-convert:hover {\n",
              "      background-color: #E2EBFA;\n",
              "      box-shadow: 0px 1px 2px rgba(60, 64, 67, 0.3), 0px 1px 3px 1px rgba(60, 64, 67, 0.15);\n",
              "      fill: #174EA6;\n",
              "    }\n",
              "\n",
              "    [theme=dark] .colab-df-convert {\n",
              "      background-color: #3B4455;\n",
              "      fill: #D2E3FC;\n",
              "    }\n",
              "\n",
              "    [theme=dark] .colab-df-convert:hover {\n",
              "      background-color: #434B5C;\n",
              "      box-shadow: 0px 1px 3px 1px rgba(0, 0, 0, 0.15);\n",
              "      filter: drop-shadow(0px 1px 2px rgba(0, 0, 0, 0.3));\n",
              "      fill: #FFFFFF;\n",
              "    }\n",
              "  </style>\n",
              "\n",
              "      <script>\n",
              "        const buttonEl =\n",
              "          document.querySelector('#df-5ca79302-3a08-495b-8e4a-275bf7e4ab53 button.colab-df-convert');\n",
              "        buttonEl.style.display =\n",
              "          google.colab.kernel.accessAllowed ? 'block' : 'none';\n",
              "\n",
              "        async function convertToInteractive(key) {\n",
              "          const element = document.querySelector('#df-5ca79302-3a08-495b-8e4a-275bf7e4ab53');\n",
              "          const dataTable =\n",
              "            await google.colab.kernel.invokeFunction('convertToInteractive',\n",
              "                                                     [key], {});\n",
              "          if (!dataTable) return;\n",
              "\n",
              "          const docLinkHtml = 'Like what you see? Visit the ' +\n",
              "            '<a target=\"_blank\" href=https://colab.research.google.com/notebooks/data_table.ipynb>data table notebook</a>'\n",
              "            + ' to learn more about interactive tables.';\n",
              "          element.innerHTML = '';\n",
              "          dataTable['output_type'] = 'display_data';\n",
              "          await google.colab.output.renderOutput(dataTable, element);\n",
              "          const docLink = document.createElement('div');\n",
              "          docLink.innerHTML = docLinkHtml;\n",
              "          element.appendChild(docLink);\n",
              "        }\n",
              "      </script>\n",
              "    </div>\n",
              "  </div>\n",
              "  "
            ]
          },
          "metadata": {},
          "execution_count": 21
        }
      ]
    },
    {
      "cell_type": "code",
      "source": [
        "df.describe().transpose()"
      ],
      "metadata": {
        "colab": {
          "base_uri": "https://localhost:8080/",
          "height": 206
        },
        "id": "QpVZQEGvShPg",
        "outputId": "651c699d-54fd-40ee-9c0e-7f55e55ed143"
      },
      "execution_count": null,
      "outputs": [
        {
          "output_type": "execute_result",
          "data": {
            "text/plain": [
              "                             count        mean         std        min  \\\n",
              "realSum                     1000.0  353.998683  482.703851  56.680543   \n",
              "cleanliness_rating          1000.0    9.216000    1.037507   2.000000   \n",
              "guest_satisfaction_overall  1000.0   91.619000    9.177694  20.000000   \n",
              "bedrooms                    1000.0    1.123000    0.596848   0.000000   \n",
              "metro_dist                  1000.0    1.114526    1.439830   0.036652   \n",
              "\n",
              "                                   25%         50%         75%           max  \n",
              "realSum                     164.867471  255.180037  412.639055  12048.731160  \n",
              "cleanliness_rating            9.000000    9.000000   10.000000     10.000000  \n",
              "guest_satisfaction_overall   88.000000   94.000000   98.000000    100.000000  \n",
              "bedrooms                      1.000000    1.000000    1.000000      8.000000  \n",
              "metro_dist                    0.323918    0.561647    1.145951      8.894176  "
            ],
            "text/html": [
              "\n",
              "  <div id=\"df-4c41fc68-bbe4-4b46-8bee-fb2655f6dabd\">\n",
              "    <div class=\"colab-df-container\">\n",
              "      <div>\n",
              "<style scoped>\n",
              "    .dataframe tbody tr th:only-of-type {\n",
              "        vertical-align: middle;\n",
              "    }\n",
              "\n",
              "    .dataframe tbody tr th {\n",
              "        vertical-align: top;\n",
              "    }\n",
              "\n",
              "    .dataframe thead th {\n",
              "        text-align: right;\n",
              "    }\n",
              "</style>\n",
              "<table border=\"1\" class=\"dataframe\">\n",
              "  <thead>\n",
              "    <tr style=\"text-align: right;\">\n",
              "      <th></th>\n",
              "      <th>count</th>\n",
              "      <th>mean</th>\n",
              "      <th>std</th>\n",
              "      <th>min</th>\n",
              "      <th>25%</th>\n",
              "      <th>50%</th>\n",
              "      <th>75%</th>\n",
              "      <th>max</th>\n",
              "    </tr>\n",
              "  </thead>\n",
              "  <tbody>\n",
              "    <tr>\n",
              "      <th>realSum</th>\n",
              "      <td>1000.0</td>\n",
              "      <td>353.998683</td>\n",
              "      <td>482.703851</td>\n",
              "      <td>56.680543</td>\n",
              "      <td>164.867471</td>\n",
              "      <td>255.180037</td>\n",
              "      <td>412.639055</td>\n",
              "      <td>12048.731160</td>\n",
              "    </tr>\n",
              "    <tr>\n",
              "      <th>cleanliness_rating</th>\n",
              "      <td>1000.0</td>\n",
              "      <td>9.216000</td>\n",
              "      <td>1.037507</td>\n",
              "      <td>2.000000</td>\n",
              "      <td>9.000000</td>\n",
              "      <td>9.000000</td>\n",
              "      <td>10.000000</td>\n",
              "      <td>10.000000</td>\n",
              "    </tr>\n",
              "    <tr>\n",
              "      <th>guest_satisfaction_overall</th>\n",
              "      <td>1000.0</td>\n",
              "      <td>91.619000</td>\n",
              "      <td>9.177694</td>\n",
              "      <td>20.000000</td>\n",
              "      <td>88.000000</td>\n",
              "      <td>94.000000</td>\n",
              "      <td>98.000000</td>\n",
              "      <td>100.000000</td>\n",
              "    </tr>\n",
              "    <tr>\n",
              "      <th>bedrooms</th>\n",
              "      <td>1000.0</td>\n",
              "      <td>1.123000</td>\n",
              "      <td>0.596848</td>\n",
              "      <td>0.000000</td>\n",
              "      <td>1.000000</td>\n",
              "      <td>1.000000</td>\n",
              "      <td>1.000000</td>\n",
              "      <td>8.000000</td>\n",
              "    </tr>\n",
              "    <tr>\n",
              "      <th>metro_dist</th>\n",
              "      <td>1000.0</td>\n",
              "      <td>1.114526</td>\n",
              "      <td>1.439830</td>\n",
              "      <td>0.036652</td>\n",
              "      <td>0.323918</td>\n",
              "      <td>0.561647</td>\n",
              "      <td>1.145951</td>\n",
              "      <td>8.894176</td>\n",
              "    </tr>\n",
              "  </tbody>\n",
              "</table>\n",
              "</div>\n",
              "      <button class=\"colab-df-convert\" onclick=\"convertToInteractive('df-4c41fc68-bbe4-4b46-8bee-fb2655f6dabd')\"\n",
              "              title=\"Convert this dataframe to an interactive table.\"\n",
              "              style=\"display:none;\">\n",
              "        \n",
              "  <svg xmlns=\"http://www.w3.org/2000/svg\" height=\"24px\"viewBox=\"0 0 24 24\"\n",
              "       width=\"24px\">\n",
              "    <path d=\"M0 0h24v24H0V0z\" fill=\"none\"/>\n",
              "    <path d=\"M18.56 5.44l.94 2.06.94-2.06 2.06-.94-2.06-.94-.94-2.06-.94 2.06-2.06.94zm-11 1L8.5 8.5l.94-2.06 2.06-.94-2.06-.94L8.5 2.5l-.94 2.06-2.06.94zm10 10l.94 2.06.94-2.06 2.06-.94-2.06-.94-.94-2.06-.94 2.06-2.06.94z\"/><path d=\"M17.41 7.96l-1.37-1.37c-.4-.4-.92-.59-1.43-.59-.52 0-1.04.2-1.43.59L10.3 9.45l-7.72 7.72c-.78.78-.78 2.05 0 2.83L4 21.41c.39.39.9.59 1.41.59.51 0 1.02-.2 1.41-.59l7.78-7.78 2.81-2.81c.8-.78.8-2.07 0-2.86zM5.41 20L4 18.59l7.72-7.72 1.47 1.35L5.41 20z\"/>\n",
              "  </svg>\n",
              "      </button>\n",
              "      \n",
              "  <style>\n",
              "    .colab-df-container {\n",
              "      display:flex;\n",
              "      flex-wrap:wrap;\n",
              "      gap: 12px;\n",
              "    }\n",
              "\n",
              "    .colab-df-convert {\n",
              "      background-color: #E8F0FE;\n",
              "      border: none;\n",
              "      border-radius: 50%;\n",
              "      cursor: pointer;\n",
              "      display: none;\n",
              "      fill: #1967D2;\n",
              "      height: 32px;\n",
              "      padding: 0 0 0 0;\n",
              "      width: 32px;\n",
              "    }\n",
              "\n",
              "    .colab-df-convert:hover {\n",
              "      background-color: #E2EBFA;\n",
              "      box-shadow: 0px 1px 2px rgba(60, 64, 67, 0.3), 0px 1px 3px 1px rgba(60, 64, 67, 0.15);\n",
              "      fill: #174EA6;\n",
              "    }\n",
              "\n",
              "    [theme=dark] .colab-df-convert {\n",
              "      background-color: #3B4455;\n",
              "      fill: #D2E3FC;\n",
              "    }\n",
              "\n",
              "    [theme=dark] .colab-df-convert:hover {\n",
              "      background-color: #434B5C;\n",
              "      box-shadow: 0px 1px 3px 1px rgba(0, 0, 0, 0.15);\n",
              "      filter: drop-shadow(0px 1px 2px rgba(0, 0, 0, 0.3));\n",
              "      fill: #FFFFFF;\n",
              "    }\n",
              "  </style>\n",
              "\n",
              "      <script>\n",
              "        const buttonEl =\n",
              "          document.querySelector('#df-4c41fc68-bbe4-4b46-8bee-fb2655f6dabd button.colab-df-convert');\n",
              "        buttonEl.style.display =\n",
              "          google.colab.kernel.accessAllowed ? 'block' : 'none';\n",
              "\n",
              "        async function convertToInteractive(key) {\n",
              "          const element = document.querySelector('#df-4c41fc68-bbe4-4b46-8bee-fb2655f6dabd');\n",
              "          const dataTable =\n",
              "            await google.colab.kernel.invokeFunction('convertToInteractive',\n",
              "                                                     [key], {});\n",
              "          if (!dataTable) return;\n",
              "\n",
              "          const docLinkHtml = 'Like what you see? Visit the ' +\n",
              "            '<a target=\"_blank\" href=https://colab.research.google.com/notebooks/data_table.ipynb>data table notebook</a>'\n",
              "            + ' to learn more about interactive tables.';\n",
              "          element.innerHTML = '';\n",
              "          dataTable['output_type'] = 'display_data';\n",
              "          await google.colab.output.renderOutput(dataTable, element);\n",
              "          const docLink = document.createElement('div');\n",
              "          docLink.innerHTML = docLinkHtml;\n",
              "          element.appendChild(docLink);\n",
              "        }\n",
              "      </script>\n",
              "    </div>\n",
              "  </div>\n",
              "  "
            ]
          },
          "metadata": {},
          "execution_count": 22
        }
      ]
    },
    {
      "cell_type": "code",
      "source": [
        "df.mean()"
      ],
      "metadata": {
        "colab": {
          "base_uri": "https://localhost:8080/"
        },
        "id": "mwwrmBnYS89i",
        "outputId": "fba3d95c-4804-46d6-d1a4-01914bb0043d"
      },
      "execution_count": null,
      "outputs": [
        {
          "output_type": "execute_result",
          "data": {
            "text/plain": [
              "realSum                       353.998683\n",
              "host_is_superhost               0.215000\n",
              "cleanliness_rating              9.216000\n",
              "guest_satisfaction_overall     91.619000\n",
              "bedrooms                        1.123000\n",
              "metro_dist                      1.114526\n",
              "dtype: float64"
            ]
          },
          "metadata": {},
          "execution_count": 23
        }
      ]
    },
    {
      "cell_type": "code",
      "source": [
        "df.describe().realSum"
      ],
      "metadata": {
        "colab": {
          "base_uri": "https://localhost:8080/"
        },
        "id": "PxUUj6TLS9Jc",
        "outputId": "1c7c0106-7cff-4b84-f6b9-eedfcca44b9e"
      },
      "execution_count": null,
      "outputs": [
        {
          "output_type": "execute_result",
          "data": {
            "text/plain": [
              "count     1000.000000\n",
              "mean       353.998683\n",
              "std        482.703851\n",
              "min         56.680543\n",
              "25%        164.867471\n",
              "50%        255.180037\n",
              "75%        412.639055\n",
              "max      12048.731160\n",
              "Name: realSum, dtype: float64"
            ]
          },
          "metadata": {},
          "execution_count": 24
        }
      ]
    },
    {
      "cell_type": "code",
      "source": [
        "df.skew()"
      ],
      "metadata": {
        "colab": {
          "base_uri": "https://localhost:8080/"
        },
        "id": "3BG1K0TKS9Tq",
        "outputId": "a61dd2c9-b879-4a5a-c41e-24cfa0f6d825"
      },
      "execution_count": null,
      "outputs": [
        {
          "output_type": "execute_result",
          "data": {
            "text/plain": [
              "realSum                       15.318663\n",
              "host_is_superhost              1.389546\n",
              "cleanliness_rating            -2.650243\n",
              "guest_satisfaction_overall    -2.946988\n",
              "bedrooms                       2.612667\n",
              "metro_dist                     2.506102\n",
              "dtype: float64"
            ]
          },
          "metadata": {},
          "execution_count": 25
        }
      ]
    },
    {
      "cell_type": "code",
      "source": [
        "df.kurtosis()"
      ],
      "metadata": {
        "colab": {
          "base_uri": "https://localhost:8080/"
        },
        "id": "mPLniMCQS9ez",
        "outputId": "699f6068-51c2-4440-ed39-ecc67ff3ef88"
      },
      "execution_count": null,
      "outputs": [
        {
          "output_type": "execute_result",
          "data": {
            "text/plain": [
              "realSum                       348.799443\n",
              "host_is_superhost              -0.069304\n",
              "cleanliness_rating             12.746676\n",
              "guest_satisfaction_overall     16.190171\n",
              "bedrooms                       20.940994\n",
              "metro_dist                      6.150345\n",
              "dtype: float64"
            ]
          },
          "metadata": {},
          "execution_count": 26
        }
      ]
    },
    {
      "cell_type": "code",
      "source": [
        "import matplotlib.pyplot as plt"
      ],
      "metadata": {
        "id": "Jesa4ARVlYFI"
      },
      "execution_count": null,
      "outputs": []
    },
    {
      "cell_type": "code",
      "source": [
        "#Plotting the histogram\n",
        "df.realSum.plot.hist()\n",
        "plt.xlabel('realSum')\n",
        "plt.ylabel('frequency')\n",
        "\n"
      ],
      "metadata": {
        "colab": {
          "base_uri": "https://localhost:8080/",
          "height": 466
        },
        "id": "0ZuHAfPUS9vq",
        "outputId": "1985aacf-1bdb-40cc-f47a-0ad203fc509e"
      },
      "execution_count": null,
      "outputs": [
        {
          "output_type": "execute_result",
          "data": {
            "text/plain": [
              "Text(0, 0.5, 'frequency')"
            ]
          },
          "metadata": {},
          "execution_count": 34
        },
        {
          "output_type": "display_data",
          "data": {
            "text/plain": [
              "<Figure size 640x480 with 1 Axes>"
            ],
            "image/png": "[encoded data removed]"
          },
          "metadata": {}
        }
      ]
    },
    {
      "cell_type": "code",
      "source": [
        "#Display of density plot\n",
        "df.realSum.plot.kde()\n",
        "plt.xlabel('realSum')\n",
        "plt.ylabel('Density')"
      ],
      "metadata": {
        "colab": {
          "base_uri": "https://localhost:8080/",
          "height": 466
        },
        "id": "QC8j37-fTSHY",
        "outputId": "1756fd62-ace8-46a0-fd04-188c786216ec"
      },
      "execution_count": null,
      "outputs": [
        {
          "output_type": "execute_result",
          "data": {
            "text/plain": [
              "Text(0, 0.5, 'Density')"
            ]
          },
          "metadata": {},
          "execution_count": 35
        },
        {
          "output_type": "display_data",
          "data": {
            "text/plain": [
              "<Figure size 640x480 with 1 Axes>"
            ],
            "image/png": "[encoded data removed]"
          },
          "metadata": {}
        }
      ]
    },
    {
      "cell_type": "code",
      "source": [
        "#Making the line plot\n",
        "df.realSum.plot()\n",
        "plt.xlabel('Lineplot')\n",
        "plt.ylabel('realSum')"
      ],
      "metadata": {
        "colab": {
          "base_uri": "https://localhost:8080/",
          "height": 466
        },
        "id": "Ag7xqxunTSQO",
        "outputId": "db47cbee-f643-436a-c9a0-8fe8d8bef6a6"
      },
      "execution_count": null,
      "outputs": [
        {
          "output_type": "execute_result",
          "data": {
            "text/plain": [
              "Text(0, 0.5, 'realSum')"
            ]
          },
          "metadata": {},
          "execution_count": 37
        },
        {
          "output_type": "display_data",
          "data": {
            "text/plain": [
              "<Figure size 640x480 with 1 Axes>"
            ],
            "image/png": "[encoded data removed]"
          },
          "metadata": {}
        }
      ]
    },
    {
      "cell_type": "code",
      "source": [
        "#Making the box-plot\n",
        "df.plot.box()\n",
        "plt.xlabel('frequency')\n",
        "plt.ylabel('Density')"
      ],
      "metadata": {
        "colab": {
          "base_uri": "https://localhost:8080/",
          "height": 447
        },
        "id": "be4cyd-mTSXj",
        "outputId": "76a2a730-c5e3-45b6-a091-068c1c2e95f6"
      },
      "execution_count": null,
      "outputs": [
        {
          "output_type": "execute_result",
          "data": {
            "text/plain": [
              "<Axes: >"
            ]
          },
          "metadata": {},
          "execution_count": 29
        },
        {
          "output_type": "display_data",
          "data": {
            "text/plain": [
              "<Figure size 640x480 with 1 Axes>"
            ],
            "image/png": "[encoded data removed]"
          },
          "metadata": {}
        }
      ]
    },
    {
      "cell_type": "code",
      "source": [
        "#Display of box plot\n",
        "df.plot.box(vert=False);"
      ],
      "metadata": {
        "colab": {
          "base_uri": "https://localhost:8080/",
          "height": 430
        },
        "id": "3vqBMIoWTSbM",
        "outputId": "6eea2b58-51b5-4232-c887-e6259fab42ba"
      },
      "execution_count": null,
      "outputs": [
        {
          "output_type": "display_data",
          "data": {
            "text/plain": [
              "<Figure size 640x480 with 1 Axes>"
            ],
            "image/png": "[encoded data removed]"
          },
          "metadata": {}
        }
      ]
    },
    {
      "cell_type": "code",
      "source": [
        "df.realSum.plot.box()"
      ],
      "metadata": {
        "colab": {
          "base_uri": "https://localhost:8080/",
          "height": 447
        },
        "id": "n9fZigauUYsg",
        "outputId": "b6558e96-ff08-45a7-e881-4d904683ec14"
      },
      "execution_count": null,
      "outputs": [
        {
          "output_type": "execute_result",
          "data": {
            "text/plain": [
              "<Axes: >"
            ]
          },
          "metadata": {},
          "execution_count": 31
        },
        {
          "output_type": "display_data",
          "data": {
            "text/plain": [
              "<Figure size 640x480 with 1 Axes>"
            ],
            "image/png": "[encoded data removed]"
          },
          "metadata": {}
        }
      ]
    },
    {
      "cell_type": "code",
      "source": [
        "#Display of Area plot\n",
        "df.plot.area()"
      ],
      "metadata": {
        "colab": {
          "base_uri": "https://localhost:8080/",
          "height": 447
        },
        "id": "Wx-LbryWUY3h",
        "outputId": "69e3addc-1eda-4487-9f20-61883e82d42d"
      },
      "execution_count": null,
      "outputs": [
        {
          "output_type": "execute_result",
          "data": {
            "text/plain": [
              "<Axes: >"
            ]
          },
          "metadata": {},
          "execution_count": 32
        },
        {
          "output_type": "display_data",
          "data": {
            "text/plain": [
              "<Figure size 640x480 with 1 Axes>"
            ],
            "image/png": "[encoded data removed]"
          },
          "metadata": {}
        }
      ]
    },
    {
      "cell_type": "code",
      "source": [
        "#Making the pie-plot\n",
        "series = df.sum()\n",
        "series.plot.pie(figsize=(4, 4));"
      ],
      "metadata": {
        "colab": {
          "base_uri": "https://localhost:8080/",
          "height": 345
        },
        "id": "Jo6y3E_YUZCC",
        "outputId": "d5f4a495-22ce-494f-fefe-5e476e38e4ba"
      },
      "execution_count": null,
      "outputs": [
        {
          "output_type": "display_data",
          "data": {
            "text/plain": [
              "<Figure size 400x400 with 1 Axes>"
            ],
            "image/png": "[encoded data removed]"
          },
          "metadata": {}
        }
      ]
    },
    {
      "cell_type": "code",
      "source": [
        "#Making the scatter plot\n",
        "df.plot.scatter(x='cleanliness_rating',y='bedrooms')"
      ],
      "metadata": {
        "colab": {
          "base_uri": "https://localhost:8080/",
          "height": 467
        },
        "id": "2_VvVMXeUZNJ",
        "outputId": "2f77314f-519e-41a8-bd74-bd8c990590b1"
      },
      "execution_count": null,
      "outputs": [
        {
          "output_type": "execute_result",
          "data": {
            "text/plain": [
              "<Axes: xlabel='cleanliness_rating', ylabel='bedrooms'>"
            ]
          },
          "metadata": {},
          "execution_count": 39
        },
        {
          "output_type": "display_data",
          "data": {
            "text/plain": [
              "<Figure size 640x480 with 1 Axes>"
            ],
            "image/png": "[encoded data removed]"
          },
          "metadata": {}
        }
      ]
    },
    {
      "cell_type": "code",
      "source": [
        "df.plot(x='cleanliness_rating',y='realSum',kind=\"scatter\")"
      ],
      "metadata": {
        "colab": {
          "base_uri": "https://localhost:8080/",
          "height": 467
        },
        "id": "4k1sByOmTSgv",
        "outputId": "c3733592-bb38-4225-bb41-856797363b03"
      },
      "execution_count": null,
      "outputs": [
        {
          "output_type": "execute_result",
          "data": {
            "text/plain": [
              "<Axes: xlabel='cleanliness_rating', ylabel='realSum'>"
            ]
          },
          "metadata": {},
          "execution_count": 35
        },
        {
          "output_type": "display_data",
          "data": {
            "text/plain": [
              "<Figure size 640x480 with 1 Axes>"
            ],
            "image/png": "[encoded data removed]"
          },
          "metadata": {}
        }
      ]
    },
    {
      "cell_type": "code",
      "source": [
        "#CORRELATION"
      ],
      "metadata": {
        "id": "l9HDhcj5fVwd"
      },
      "execution_count": null,
      "outputs": []
    },
    {
      "cell_type": "code",
      "source": [
        "#Performing correlation analysis on the airbnbgroup32 dataset\n",
        "#import the library packages\n",
        "import pandas as pd\n",
        "import numpy as np\n",
        "import seaborn as sns\n",
        "from scipy.stats import pearsonr \n",
        "import scipy.stats as stats\n",
        "import matplotlib.pyplot as plt"
      ],
      "metadata": {
        "id": "i849BwLaTSk9"
      },
      "execution_count": null,
      "outputs": []
    },
    {
      "cell_type": "code",
      "source": [
        "#creating random dataset\n",
        "data=pd.DataFrame(data=np.random.rand(1000,6),columns=['realSum','host_is_superhost','cleanliness_rating','guest_satisfaction_overall','bedrooms','metro_dist'])"
      ],
      "metadata": {
        "id": "h2I8tSxJWWRL"
      },
      "execution_count": null,
      "outputs": []
    },
    {
      "cell_type": "code",
      "source": [
        "data = {'X': ['cleanliness_rating'], 'Y': ['realSum']}\n",
        "df = pd.DataFrame(data)"
      ],
      "metadata": {
        "id": "p2nLevP_WWeB"
      },
      "execution_count": null,
      "outputs": []
    },
    {
      "cell_type": "code",
      "source": [
        "#Making scatter plot\n",
        "sns.scatterplot(x='X', y='Y', data=df)"
      ],
      "metadata": {
        "colab": {
          "base_uri": "https://localhost:8080/",
          "height": 467
        },
        "id": "pXZMGH4lWWou",
        "outputId": "59a283c2-cca5-4eda-cc89-00f15185685d"
      },
      "execution_count": null,
      "outputs": [
        {
          "output_type": "execute_result",
          "data": {
            "text/plain": [
              "<Axes: xlabel='X', ylabel='Y'>"
            ]
          },
          "metadata": {},
          "execution_count": 312
        },
        {
          "output_type": "display_data",
          "data": {
            "text/plain": [
              "<Figure size 640x480 with 1 Axes>"
            ],
            "image/png": "[encoded data removed]"
          },
          "metadata": {}
        }
      ]
    },
    {
      "cell_type": "code",
      "source": [
        "#creating random dataset\n",
        "data=pd.DataFrame(data=np.random.rand(1000,6),columns=['realSum','host_is_superhost','cleanliness_rating','guest_satisfaction_overall','bedrooms','metro_dist'])"
      ],
      "metadata": {
        "id": "J9tKs4DSaTU_"
      },
      "execution_count": null,
      "outputs": []
    },
    {
      "cell_type": "code",
      "source": [
        "corr_matrix = data.corr()"
      ],
      "metadata": {
        "id": "sYha6_nCWXRz"
      },
      "execution_count": null,
      "outputs": []
    },
    {
      "cell_type": "code",
      "source": [
        "print(corr_matrix)"
      ],
      "metadata": {
        "colab": {
          "base_uri": "https://localhost:8080/"
        },
        "id": "ye1I65sHWXay",
        "outputId": "1770477a-4b76-4428-a29c-25349a73662c"
      },
      "execution_count": null,
      "outputs": [
        {
          "output_type": "stream",
          "name": "stdout",
          "text": [
            "                             realSum  host_is_superhost  cleanliness_rating  \\\n",
            "realSum                     1.000000          -0.038811            0.003564   \n",
            "host_is_superhost          -0.038811           1.000000            0.029499   \n",
            "cleanliness_rating          0.003564           0.029499            1.000000   \n",
            "guest_satisfaction_overall  0.021026          -0.016255           -0.000007   \n",
            "bedrooms                    0.013451           0.008475            0.000773   \n",
            "metro_dist                  0.014636           0.006291           -0.013678   \n",
            "\n",
            "                            guest_satisfaction_overall  bedrooms  metro_dist  \n",
            "realSum                                       0.021026  0.013451    0.014636  \n",
            "host_is_superhost                            -0.016255  0.008475    0.006291  \n",
            "cleanliness_rating                           -0.000007  0.000773   -0.013678  \n",
            "guest_satisfaction_overall                    1.000000 -0.012948    0.039968  \n",
            "bedrooms                                     -0.012948  1.000000   -0.027097  \n",
            "metro_dist                                    0.039968 -0.027097    1.000000  \n"
          ]
        }
      ]
    },
    {
      "cell_type": "code",
      "source": [
        "#Computing correlation coefficient/p-value between realSum and host_is_superhost\n",
        "coef, p_value = pearsonr(data['realSum'], data['host_is_superhost'])\n",
        "print(f\"Correlation coefficient between realSum and host_is_superhost: {coef:.2f}, p-value: {p_value:.4f}\")"
      ],
      "metadata": {
        "colab": {
          "base_uri": "https://localhost:8080/"
        },
        "id": "ZpyVhJjhcbSA",
        "outputId": "1867f85b-c8f3-48b9-e545-6193167bbf98"
      },
      "execution_count": null,
      "outputs": [
        {
          "output_type": "stream",
          "name": "stdout",
          "text": [
            "Correlation coefficient between realSum and host_is_superhost: -0.04, p-value: 0.2201\n"
          ]
        }
      ]
    },
    {
      "cell_type": "code",
      "source": [
        "#Computing correlation coefficient/p-value between realSum and cleanliness_rating\n",
        "coef, p_value = pearsonr(data['realSum'], data['cleanliness_rating'])\n",
        "print(f\"Correlation coefficient between realSum and cleanliness_rating: {coef:.2f}, p-value: {p_value:.4f}\")"
      ],
      "metadata": {
        "colab": {
          "base_uri": "https://localhost:8080/"
        },
        "id": "wRTsn15pdtwN",
        "outputId": "3e9ba31c-16c7-4034-92ff-65eef0920749"
      },
      "execution_count": null,
      "outputs": [
        {
          "output_type": "stream",
          "name": "stdout",
          "text": [
            "Correlation coefficient between realSum and cleanliness_rating: 0.00, p-value: 0.9104\n"
          ]
        }
      ]
    },
    {
      "cell_type": "code",
      "source": [
        "#Computing correlation coefficient/p-value between realSum and guest_satisfaction_overall\n",
        "coef, p_value = pearsonr(data['realSum'], data['guest_satisfaction_overall'])\n",
        "print(f\"Correlation coefficient between realSum and guest_satisfaction_overall: {coef:.2f}, p-value: {p_value:.4f}\")"
      ],
      "metadata": {
        "colab": {
          "base_uri": "https://localhost:8080/"
        },
        "id": "0LN8SyzHdt6p",
        "outputId": "2a2b0b35-8cc2-42c3-cf72-f43d77c01f11"
      },
      "execution_count": null,
      "outputs": [
        {
          "output_type": "stream",
          "name": "stdout",
          "text": [
            "Correlation coefficient between realSum and guest_satisfaction_overall: 0.02, p-value: 0.5066\n"
          ]
        }
      ]
    },
    {
      "cell_type": "code",
      "source": [
        "#Computing correlation coefficient/p-value between realSum and bedrooms\n",
        "coef, p_value = pearsonr(data['realSum'], data['bedrooms'])\n",
        "print(f\"Correlation coefficient between realSum and bedrooms: {coef:.2f}, p-value: {p_value:.4f}\")"
      ],
      "metadata": {
        "colab": {
          "base_uri": "https://localhost:8080/"
        },
        "id": "TrMIvkbKduFS",
        "outputId": "f4c5865b-ca51-4a20-8f88-ca3321c5c753"
      },
      "execution_count": null,
      "outputs": [
        {
          "output_type": "stream",
          "name": "stdout",
          "text": [
            "Correlation coefficient between realSum and bedrooms: 0.00, p-value: 0.8924\n"
          ]
        }
      ]
    },
    {
      "cell_type": "code",
      "source": [
        "#Computing correlation coefficient/p-value between realSum and metro_dist\n",
        "coef, p_value = pearsonr(data['realSum'], data['metro_dist'])\n",
        "print(f\"Correlation coefficient between realSum and metro_dist: {coef:.2f}, p-value: {p_value:.4f}\")"
      ],
      "metadata": {
        "colab": {
          "base_uri": "https://localhost:8080/"
        },
        "id": "0xo9obSyduR8",
        "outputId": "de23b176-fd56-4b93-f71d-25d88d05787d"
      },
      "execution_count": null,
      "outputs": [
        {
          "output_type": "stream",
          "name": "stdout",
          "text": [
            "Correlation coefficient between realSum and metro_dist: 0.01, p-value: 0.8147\n"
          ]
        }
      ]
    },
    {
      "cell_type": "code",
      "source": [
        "#Computing correlation coefficient/p-value between bedrooms and metro_dist\n",
        "coef, p_value = pearsonr(data['bedrooms'], data['metro_dist'])\n",
        "print(f\"Correlation coefficient between bedrooms and metro_dist: {coef:.2f}, p-value: {p_value:.4f}\")"
      ],
      "metadata": {
        "colab": {
          "base_uri": "https://localhost:8080/"
        },
        "id": "rfSenQtacbba",
        "outputId": "4b595279-d646-413f-ad35-6d7cfd03ab16"
      },
      "execution_count": null,
      "outputs": [
        {
          "output_type": "stream",
          "name": "stdout",
          "text": [
            "Correlation coefficient between bedrooms and metro_dist: -0.01, p-value: 0.8469\n"
          ]
        }
      ]
    },
    {
      "cell_type": "code",
      "source": [
        "#Computing Correlation coefficient and p-value for all the features\n",
        "for col1 in corr_matrix.columns:\n",
        "    for col2 in corr_matrix.columns:\n",
        "        corr_coef, p_value = pearsonr(data[col1], data[col2])\n",
        "        print(f\"Correlation coefficient between {col1} and {col2}: {corr_coef:.4f}, p-value: {p_value:.4f}\")"
      ],
      "metadata": {
        "colab": {
          "base_uri": "https://localhost:8080/"
        },
        "id": "BtcHsBhQa8JN",
        "outputId": "3ba0ae5f-e4df-44a1-dfd8-50d0ae7d1789"
      },
      "execution_count": null,
      "outputs": [
        {
          "output_type": "stream",
          "name": "stdout",
          "text": [
            "Correlation coefficient between realSum and realSum: 1.0000, p-value: 0.0000\n",
            "Correlation coefficient between realSum and host_is_superhost: 0.0004, p-value: 0.9889\n",
            "Correlation coefficient between realSum and cleanliness_rating: -0.0159, p-value: 0.6148\n",
            "Correlation coefficient between realSum and guest_satisfaction_overall: 0.0085, p-value: 0.7882\n",
            "Correlation coefficient between realSum and bedrooms: 0.0043, p-value: 0.8924\n",
            "Correlation coefficient between realSum and metro_dist: 0.0074, p-value: 0.8147\n",
            "Correlation coefficient between host_is_superhost and realSum: 0.0004, p-value: 0.9889\n",
            "Correlation coefficient between host_is_superhost and host_is_superhost: 1.0000, p-value: 0.0000\n",
            "Correlation coefficient between host_is_superhost and cleanliness_rating: -0.0227, p-value: 0.4731\n",
            "Correlation coefficient between host_is_superhost and guest_satisfaction_overall: 0.0264, p-value: 0.4042\n",
            "Correlation coefficient between host_is_superhost and bedrooms: 0.0594, p-value: 0.0606\n",
            "Correlation coefficient between host_is_superhost and metro_dist: -0.0136, p-value: 0.6681\n",
            "Correlation coefficient between cleanliness_rating and realSum: -0.0159, p-value: 0.6148\n",
            "Correlation coefficient between cleanliness_rating and host_is_superhost: -0.0227, p-value: 0.4731\n",
            "Correlation coefficient between cleanliness_rating and cleanliness_rating: 1.0000, p-value: 0.0000\n",
            "Correlation coefficient between cleanliness_rating and guest_satisfaction_overall: 0.0069, p-value: 0.8267\n",
            "Correlation coefficient between cleanliness_rating and bedrooms: -0.0248, p-value: 0.4342\n",
            "Correlation coefficient between cleanliness_rating and metro_dist: -0.0059, p-value: 0.8524\n",
            "Correlation coefficient between guest_satisfaction_overall and realSum: 0.0085, p-value: 0.7882\n",
            "Correlation coefficient between guest_satisfaction_overall and host_is_superhost: 0.0264, p-value: 0.4042\n",
            "Correlation coefficient between guest_satisfaction_overall and cleanliness_rating: 0.0069, p-value: 0.8267\n",
            "Correlation coefficient between guest_satisfaction_overall and guest_satisfaction_overall: 1.0000, p-value: 0.0000\n",
            "Correlation coefficient between guest_satisfaction_overall and bedrooms: -0.1059, p-value: 0.0008\n",
            "Correlation coefficient between guest_satisfaction_overall and metro_dist: 0.0022, p-value: 0.9445\n",
            "Correlation coefficient between bedrooms and realSum: 0.0043, p-value: 0.8924\n",
            "Correlation coefficient between bedrooms and host_is_superhost: 0.0594, p-value: 0.0606\n",
            "Correlation coefficient between bedrooms and cleanliness_rating: -0.0248, p-value: 0.4342\n",
            "Correlation coefficient between bedrooms and guest_satisfaction_overall: -0.1059, p-value: 0.0008\n",
            "Correlation coefficient between bedrooms and bedrooms: 1.0000, p-value: 0.0000\n",
            "Correlation coefficient between bedrooms and metro_dist: -0.0061, p-value: 0.8469\n",
            "Correlation coefficient between metro_dist and realSum: 0.0074, p-value: 0.8147\n",
            "Correlation coefficient between metro_dist and host_is_superhost: -0.0136, p-value: 0.6681\n",
            "Correlation coefficient between metro_dist and cleanliness_rating: -0.0059, p-value: 0.8524\n",
            "Correlation coefficient between metro_dist and guest_satisfaction_overall: 0.0022, p-value: 0.9445\n",
            "Correlation coefficient between metro_dist and bedrooms: -0.0061, p-value: 0.8469\n",
            "Correlation coefficient between metro_dist and metro_dist: 1.0000, p-value: 0.0000\n"
          ]
        }
      ]
    },
    {
      "cell_type": "code",
      "source": [
        "#Performing heat map on the features\n",
        "corr = data.corr()"
      ],
      "metadata": {
        "id": "-4_iPj2ia8Sg"
      },
      "execution_count": null,
      "outputs": []
    },
    {
      "cell_type": "code",
      "source": [
        "#Plotting the heat map\n",
        "sns.heatmap(corr, cmap='coolwarm', annot=True)\n",
        "plt.show()"
      ],
      "metadata": {
        "colab": {
          "base_uri": "https://localhost:8080/",
          "height": 602
        },
        "id": "e7s7dLf8dqPt",
        "outputId": "c8ea260c-f6f6-48ff-b5c7-ea11877e2f02"
      },
      "execution_count": null,
      "outputs": [
        {
          "output_type": "display_data",
          "data": {
            "text/plain": [
              "<Figure size 640x480 with 2 Axes>"
            ],
            "image/png": "[encoded data removed]"
          },
          "metadata": {}
        }
      ]
    },
    {
      "cell_type": "code",
      "source": [
        "#MULTIPLE LINEAR REGRESSION"
      ],
      "metadata": {
        "id": "7n6MCFQTdqig"
      },
      "execution_count": null,
      "outputs": []
    },
    {
      "cell_type": "code",
      "source": [
        "#import the library packages for the multiple linear regression\n",
        "import pandas as pd\n",
        "import numpy as np\n",
        "from sklearn.linear_model import LinearRegression\n",
        "from sklearn.model_selection import train_test_split\n",
        "from sklearn.metrics import r2_score, mean_squared_error, mean_absolute_error\n",
        "import seaborn as sns\n",
        "from math import sqrt\n",
        "import matplotlib.pyplot as plt\n"
      ],
      "metadata": {
        "id": "HjWPpQ_W3ck6"
      },
      "execution_count": null,
      "outputs": []
    },
    {
      "cell_type": "code",
      "source": [
        "#importing airbnbgroup32 dataset from the drive\n",
        "path=\"/content/drive/MyDrive/Dataset/airbnbgroup32.csv\"\n",
        "df=pd.read_csv(path)"
      ],
      "metadata": {
        "id": "jTJvm5td5Jy7"
      },
      "execution_count": null,
      "outputs": []
    },
    {
      "cell_type": "code",
      "source": [
        "#Showing the no of observation and faetures in the dataset imported\n",
        "df.info()"
      ],
      "metadata": {
        "colab": {
          "base_uri": "https://localhost:8080/"
        },
        "id": "EYedc10O5J8Z",
        "outputId": "f92ccafe-72bb-40a0-de92-6a1c056bfc50"
      },
      "execution_count": null,
      "outputs": [
        {
          "output_type": "stream",
          "name": "stdout",
          "text": [
            "<class 'pandas.core.frame.DataFrame'>\n",
            "RangeIndex: 5379 entries, 0 to 5378\n",
            "Data columns (total 20 columns):\n",
            " #   Column                      Non-Null Count  Dtype  \n",
            "---  ------                      --------------  -----  \n",
            " 0   serial_no                   5379 non-null   int64  \n",
            " 1   realSum                     5379 non-null   float64\n",
            " 2   room_type                   5379 non-null   object \n",
            " 3   room_shared                 5379 non-null   bool   \n",
            " 4   room_private                5379 non-null   bool   \n",
            " 5   person_capacity             5379 non-null   int64  \n",
            " 6   host_is_superhost           5379 non-null   bool   \n",
            " 7   multi                       5379 non-null   int64  \n",
            " 8   biz                         5379 non-null   int64  \n",
            " 9   cleanliness_rating          5379 non-null   int64  \n",
            " 10  guest_satisfaction_overall  5379 non-null   int64  \n",
            " 11  bedrooms                    5379 non-null   int64  \n",
            " 12  dist                        5379 non-null   float64\n",
            " 13  metro_dist                  5379 non-null   float64\n",
            " 14  attr_index                  5379 non-null   float64\n",
            " 15  attr_index_norm             5379 non-null   float64\n",
            " 16  rest_index                  5379 non-null   float64\n",
            " 17  rest_index_norm             5379 non-null   float64\n",
            " 18  lng                         5379 non-null   float64\n",
            " 19  lat                         5379 non-null   float64\n",
            "dtypes: bool(3), float64(9), int64(7), object(1)\n",
            "memory usage: 730.3+ KB\n"
          ]
        }
      ]
    },
    {
      "cell_type": "code",
      "source": [
        "#Dropping of irrelevant features from the dataset\n",
        "df=df.drop (['serial_no','room_shared','room_private','person_capacity','multi','biz','room_type','dist','attr_index','attr_index_norm','rest_index','rest_index_norm','lng','lat'], axis=1)"
      ],
      "metadata": {
        "id": "w2PHXKbO5KAn"
      },
      "execution_count": null,
      "outputs": []
    },
    {
      "cell_type": "code",
      "source": [
        "#New features after drpping the irrelevant\n",
        "df.info()"
      ],
      "metadata": {
        "colab": {
          "base_uri": "https://localhost:8080/"
        },
        "id": "WQCYhMLn5msE",
        "outputId": "ef8ea836-2297-4936-f398-b4adcb027e9b"
      },
      "execution_count": null,
      "outputs": [
        {
          "output_type": "stream",
          "name": "stdout",
          "text": [
            "<class 'pandas.core.frame.DataFrame'>\n",
            "RangeIndex: 5379 entries, 0 to 5378\n",
            "Data columns (total 6 columns):\n",
            " #   Column                      Non-Null Count  Dtype  \n",
            "---  ------                      --------------  -----  \n",
            " 0   realSum                     5379 non-null   float64\n",
            " 1   host_is_superhost           5379 non-null   bool   \n",
            " 2   cleanliness_rating          5379 non-null   int64  \n",
            " 3   guest_satisfaction_overall  5379 non-null   int64  \n",
            " 4   bedrooms                    5379 non-null   int64  \n",
            " 5   metro_dist                  5379 non-null   float64\n",
            "dtypes: bool(1), float64(2), int64(3)\n",
            "memory usage: 215.5 KB\n"
          ]
        }
      ]
    },
    {
      "cell_type": "code",
      "source": [
        "#Dropping the 4379rows observation to remain 1000observation for the training and test modeling\n",
        "df=df.iloc[:1000]"
      ],
      "metadata": {
        "id": "6Cecjqaw5myh"
      },
      "execution_count": null,
      "outputs": []
    },
    {
      "cell_type": "code",
      "source": [
        "df.head()"
      ],
      "metadata": {
        "colab": {
          "base_uri": "https://localhost:8080/",
          "height": 206
        },
        "id": "L33idVPJ5m2H",
        "outputId": "d27d516a-1d24-4147-f678-8d6d0a5eb2b4"
      },
      "execution_count": null,
      "outputs": [
        {
          "output_type": "execute_result",
          "data": {
            "text/plain": [
              "      realSum  host_is_superhost  cleanliness_rating  \\\n",
              "0  121.122322              False                   6   \n",
              "1  195.912416              False                  10   \n",
              "2  193.325337              False                  10   \n",
              "3  180.389943              False                   9   \n",
              "4  405.700981              False                   7   \n",
              "\n",
              "   guest_satisfaction_overall  bedrooms  metro_dist  \n",
              "0                          69         1    0.437094  \n",
              "1                          96         1    1.464050  \n",
              "2                          95         1    0.450306  \n",
              "3                          87         1    0.132670  \n",
              "4                          65         0    0.354108  "
            ],
            "text/html": [
              "\n",
              "  <div id=\"df-fd914a72-6d47-4d7e-bd21-7d3fa8dcac50\">\n",
              "    <div class=\"colab-df-container\">\n",
              "      <div>\n",
              "<style scoped>\n",
              "    .dataframe tbody tr th:only-of-type {\n",
              "        vertical-align: middle;\n",
              "    }\n",
              "\n",
              "    .dataframe tbody tr th {\n",
              "        vertical-align: top;\n",
              "    }\n",
              "\n",
              "    .dataframe thead th {\n",
              "        text-align: right;\n",
              "    }\n",
              "</style>\n",
              "<table border=\"1\" class=\"dataframe\">\n",
              "  <thead>\n",
              "    <tr style=\"text-align: right;\">\n",
              "      <th></th>\n",
              "      <th>realSum</th>\n",
              "      <th>host_is_superhost</th>\n",
              "      <th>cleanliness_rating</th>\n",
              "      <th>guest_satisfaction_overall</th>\n",
              "      <th>bedrooms</th>\n",
              "      <th>metro_dist</th>\n",
              "    </tr>\n",
              "  </thead>\n",
              "  <tbody>\n",
              "    <tr>\n",
              "      <th>0</th>\n",
              "      <td>121.122322</td>\n",
              "      <td>False</td>\n",
              "      <td>6</td>\n",
              "      <td>69</td>\n",
              "      <td>1</td>\n",
              "      <td>0.437094</td>\n",
              "    </tr>\n",
              "    <tr>\n",
              "      <th>1</th>\n",
              "      <td>195.912416</td>\n",
              "      <td>False</td>\n",
              "      <td>10</td>\n",
              "      <td>96</td>\n",
              "      <td>1</td>\n",
              "      <td>1.464050</td>\n",
              "    </tr>\n",
              "    <tr>\n",
              "      <th>2</th>\n",
              "      <td>193.325337</td>\n",
              "      <td>False</td>\n",
              "      <td>10</td>\n",
              "      <td>95</td>\n",
              "      <td>1</td>\n",
              "      <td>0.450306</td>\n",
              "    </tr>\n",
              "    <tr>\n",
              "      <th>3</th>\n",
              "      <td>180.389943</td>\n",
              "      <td>False</td>\n",
              "      <td>9</td>\n",
              "      <td>87</td>\n",
              "      <td>1</td>\n",
              "      <td>0.132670</td>\n",
              "    </tr>\n",
              "    <tr>\n",
              "      <th>4</th>\n",
              "      <td>405.700981</td>\n",
              "      <td>False</td>\n",
              "      <td>7</td>\n",
              "      <td>65</td>\n",
              "      <td>0</td>\n",
              "      <td>0.354108</td>\n",
              "    </tr>\n",
              "  </tbody>\n",
              "</table>\n",
              "</div>\n",
              "      <button class=\"colab-df-convert\" onclick=\"convertToInteractive('df-fd914a72-6d47-4d7e-bd21-7d3fa8dcac50')\"\n",
              "              title=\"Convert this dataframe to an interactive table.\"\n",
              "              style=\"display:none;\">\n",
              "        \n",
              "  <svg xmlns=\"http://www.w3.org/2000/svg\" height=\"24px\"viewBox=\"0 0 24 24\"\n",
              "       width=\"24px\">\n",
              "    <path d=\"M0 0h24v24H0V0z\" fill=\"none\"/>\n",
              "    <path d=\"M18.56 5.44l.94 2.06.94-2.06 2.06-.94-2.06-.94-.94-2.06-.94 2.06-2.06.94zm-11 1L8.5 8.5l.94-2.06 2.06-.94-2.06-.94L8.5 2.5l-.94 2.06-2.06.94zm10 10l.94 2.06.94-2.06 2.06-.94-2.06-.94-.94-2.06-.94 2.06-2.06.94z\"/><path d=\"M17.41 7.96l-1.37-1.37c-.4-.4-.92-.59-1.43-.59-.52 0-1.04.2-1.43.59L10.3 9.45l-7.72 7.72c-.78.78-.78 2.05 0 2.83L4 21.41c.39.39.9.59 1.41.59.51 0 1.02-.2 1.41-.59l7.78-7.78 2.81-2.81c.8-.78.8-2.07 0-2.86zM5.41 20L4 18.59l7.72-7.72 1.47 1.35L5.41 20z\"/>\n",
              "  </svg>\n",
              "      </button>\n",
              "      \n",
              "  <style>\n",
              "    .colab-df-container {\n",
              "      display:flex;\n",
              "      flex-wrap:wrap;\n",
              "      gap: 12px;\n",
              "    }\n",
              "\n",
              "    .colab-df-convert {\n",
              "      background-color: #E8F0FE;\n",
              "      border: none;\n",
              "      border-radius: 50%;\n",
              "      cursor: pointer;\n",
              "      display: none;\n",
              "      fill: #1967D2;\n",
              "      height: 32px;\n",
              "      padding: 0 0 0 0;\n",
              "      width: 32px;\n",
              "    }\n",
              "\n",
              "    .colab-df-convert:hover {\n",
              "      background-color: #E2EBFA;\n",
              "      box-shadow: 0px 1px 2px rgba(60, 64, 67, 0.3), 0px 1px 3px 1px rgba(60, 64, 67, 0.15);\n",
              "      fill: #174EA6;\n",
              "    }\n",
              "\n",
              "    [theme=dark] .colab-df-convert {\n",
              "      background-color: #3B4455;\n",
              "      fill: #D2E3FC;\n",
              "    }\n",
              "\n",
              "    [theme=dark] .colab-df-convert:hover {\n",
              "      background-color: #434B5C;\n",
              "      box-shadow: 0px 1px 3px 1px rgba(0, 0, 0, 0.15);\n",
              "      filter: drop-shadow(0px 1px 2px rgba(0, 0, 0, 0.3));\n",
              "      fill: #FFFFFF;\n",
              "    }\n",
              "  </style>\n",
              "\n",
              "      <script>\n",
              "        const buttonEl =\n",
              "          document.querySelector('#df-fd914a72-6d47-4d7e-bd21-7d3fa8dcac50 button.colab-df-convert');\n",
              "        buttonEl.style.display =\n",
              "          google.colab.kernel.accessAllowed ? 'block' : 'none';\n",
              "\n",
              "        async function convertToInteractive(key) {\n",
              "          const element = document.querySelector('#df-fd914a72-6d47-4d7e-bd21-7d3fa8dcac50');\n",
              "          const dataTable =\n",
              "            await google.colab.kernel.invokeFunction('convertToInteractive',\n",
              "                                                     [key], {});\n",
              "          if (!dataTable) return;\n",
              "\n",
              "          const docLinkHtml = 'Like what you see? Visit the ' +\n",
              "            '<a target=\"_blank\" href=https://colab.research.google.com/notebooks/data_table.ipynb>data table notebook</a>'\n",
              "            + ' to learn more about interactive tables.';\n",
              "          element.innerHTML = '';\n",
              "          dataTable['output_type'] = 'display_data';\n",
              "          await google.colab.output.renderOutput(dataTable, element);\n",
              "          const docLink = document.createElement('div');\n",
              "          docLink.innerHTML = docLinkHtml;\n",
              "          element.appendChild(docLink);\n",
              "        }\n",
              "      </script>\n",
              "    </div>\n",
              "  </div>\n",
              "  "
            ]
          },
          "metadata": {},
          "execution_count": 332
        }
      ]
    },
    {
      "cell_type": "code",
      "source": [
        "#Removing the null or void from the original dataset\n",
        "df.isnull().sum()"
      ],
      "metadata": {
        "colab": {
          "base_uri": "https://localhost:8080/"
        },
        "id": "nejQyLdH5m7L",
        "outputId": "f6b14b05-891c-40c6-a4c9-db3b795c57d9"
      },
      "execution_count": null,
      "outputs": [
        {
          "output_type": "execute_result",
          "data": {
            "text/plain": [
              "realSum                       0\n",
              "host_is_superhost             0\n",
              "cleanliness_rating            0\n",
              "guest_satisfaction_overall    0\n",
              "bedrooms                      0\n",
              "metro_dist                    0\n",
              "dtype: int64"
            ]
          },
          "metadata": {},
          "execution_count": 333
        }
      ]
    },
    {
      "cell_type": "code",
      "source": [
        "data=pd.DataFrame(data=np.random.rand(1001,6),columns=['realSum','host_is_superhost','cleanliness_rating','guess_satisfaction_overall','bedrooms','metro_dist'])"
      ],
      "metadata": {
        "id": "Zyl5IlJS5m94"
      },
      "execution_count": null,
      "outputs": []
    },
    {
      "cell_type": "code",
      "source": [
        "df = pd.get_dummies(df, columns=['host_is_superhost'])"
      ],
      "metadata": {
        "id": "kjoE8LZS5nBu"
      },
      "execution_count": null,
      "outputs": []
    },
    {
      "cell_type": "code",
      "source": [
        "#Splitting the dataset into training and testing\n",
        "X_train, X_test, y_train, y_test = train_test_split(df.drop('realSum', axis=1), df['realSum'], test_size=0.2, random_state=42)"
      ],
      "metadata": {
        "id": "xOJ_0HK95nDu"
      },
      "execution_count": null,
      "outputs": []
    },
    {
      "cell_type": "code",
      "source": [
        "# Fit a multiple linear regression model\n",
        "regressor = LinearRegression()\n",
        "regressor.fit(X_train, y_train)\n",
        "\n",
        "# Make predictions on test data\n",
        "y_pred = regressor.predict(X_test)\n"
      ],
      "metadata": {
        "id": "77k_LnV15nGV"
      },
      "execution_count": null,
      "outputs": []
    },
    {
      "cell_type": "code",
      "source": [
        "print(\"Intercept: \\n\",regressor.intercept_)\n",
        "print(\"Coefficients: \\n\",regressor.coef_)\n"
      ],
      "metadata": {
        "colab": {
          "base_uri": "https://localhost:8080/"
        },
        "id": "k8K9FlAx5KE6",
        "outputId": "680c0d2b-8f89-46a1-b087-4c0a17c1ebbd"
      },
      "execution_count": null,
      "outputs": [
        {
          "output_type": "stream",
          "name": "stdout",
          "text": [
            "Intercept: \n",
            " 367.9178400599669\n",
            "Coefficients: \n",
            " [-18.43593233  -1.03056964 273.02863292 -57.05686621  15.44867797\n",
            " -15.44867797]\n"
          ]
        }
      ]
    },
    {
      "cell_type": "code",
      "source": [
        "print('R-squared: {:.3f}'.format(r2_score(y_test, y_pred)))\n",
        "print('MSE: {:.3f}'.format(mean_squared_error(y_test, y_pred)))\n",
        "print('RMSE: {:.3f}'.format(sqrt(mean_squared_error(y_test, y_pred))))\n",
        "print('MAE: {:.3f}'.format(mean_absolute_error(y_test, y_pred)))\n"
      ],
      "metadata": {
        "colab": {
          "base_uri": "https://localhost:8080/"
        },
        "id": "KeUfeTbi6dhf",
        "outputId": "5214dfc6-ba8c-46c6-da3d-0a46e265ac41"
      },
      "execution_count": null,
      "outputs": [
        {
          "output_type": "stream",
          "name": "stdout",
          "text": [
            "R-squared: 0.265\n",
            "MSE: 68353.911\n",
            "RMSE: 261.446\n",
            "MAE: 171.180\n"
          ]
        }
      ]
    },
    {
      "cell_type": "code",
      "source": [
        "data=pd.DataFrame(data=np.random.rand(1001,6),columns=['realSum','host_is_superhost','cleanliness_rating','guess_satisfaction_overall','bedrooms','metro_dist'])"
      ],
      "metadata": {
        "id": "GhLokwC76dqd"
      },
      "execution_count": null,
      "outputs": []
    },
    {
      "cell_type": "code",
      "source": [
        "X= data.drop('realSum', axis=1)\n",
        "y= data['realSum']\n"
      ],
      "metadata": {
        "id": "nCkphKvA7EAG"
      },
      "execution_count": null,
      "outputs": []
    },
    {
      "cell_type": "code",
      "source": [
        "model=LinearRegression().fit(X,y)"
      ],
      "metadata": {
        "id": "dZ4qvTUG7EK5"
      },
      "execution_count": null,
      "outputs": []
    },
    {
      "cell_type": "code",
      "source": [
        "y_pred=model.predict(X)"
      ],
      "metadata": {
        "id": "sbLg0Jkd7EU4"
      },
      "execution_count": null,
      "outputs": []
    },
    {
      "cell_type": "code",
      "source": [
        "plt.scatter(y_pred, y)\n",
        "plt.xlabel('Predicted Values')\n",
        "plt.ylabel('Actual Values')\n",
        "plt.title('Multiple Linear Regression Scatter Plot')\n",
        "plt.show()\n"
      ],
      "metadata": {
        "colab": {
          "base_uri": "https://localhost:8080/",
          "height": 472
        },
        "id": "WI3fPScc7Uun",
        "outputId": "625be473-21a0-4133-b3a6-e075b0d2ab10"
      },
      "execution_count": null,
      "outputs": [
        {
          "output_type": "display_data",
          "data": {
            "text/plain": [
              "<Figure size 640x480 with 1 Axes>"
            ],
            "image/png": "[encoded data removed]"
          },
          "metadata": {}
        }
      ]
    },
    {
      "cell_type": "code",
      "source": [
        "#RANDOM FOREST"
      ],
      "metadata": {
        "id": "2TpAd_zvvaoV"
      },
      "execution_count": null,
      "outputs": []
    },
    {
      "cell_type": "code",
      "source": [
        "#importing library packages for random forest\n",
        "import pandas as pd\n",
        "from sklearn.ensemble import RandomForestRegressor\n",
        "from sklearn.model_selection import GridSearchCV, train_test_split\n",
        "from sklearn.metrics import mean_squared_error, r2_score\n",
        "from sklearn.metrics import mean_absolute_error\n",
        "import matplotlib.pyplot as plt\n"
      ],
      "metadata": {
        "id": "rxwvqMEKuckh"
      },
      "execution_count": null,
      "outputs": []
    },
    {
      "cell_type": "code",
      "source": [
        "df = pd.get_dummies(df, drop_first=True)"
      ],
      "metadata": {
        "id": "0UaK55eFwLvh"
      },
      "execution_count": null,
      "outputs": []
    },
    {
      "cell_type": "code",
      "source": [
        "#Dropping the target feature\n",
        "X = df.drop(['realSum'], axis=1)\n",
        "y = df['realSum']"
      ],
      "metadata": {
        "id": "9X_CTqKHwL6j"
      },
      "execution_count": null,
      "outputs": []
    },
    {
      "cell_type": "code",
      "source": [
        "#Splitting the dataset into training and testing\n",
        "X_train, X_test, y_train, y_test = train_test_split(X, y, test_size=0.2, random_state=42)"
      ],
      "metadata": {
        "id": "-s8f-0-DwMEi"
      },
      "execution_count": null,
      "outputs": []
    },
    {
      "cell_type": "code",
      "source": [
        "rf_model = RandomForestRegressor(random_state=42)\n",
        "rf_model.fit(X_train, y_train)\n"
      ],
      "metadata": {
        "colab": {
          "base_uri": "https://localhost:8080/",
          "height": 75
        },
        "id": "BQI8UDXewaNG",
        "outputId": "f839213e-f543-42fb-f378-e7499843f457"
      },
      "execution_count": null,
      "outputs": [
        {
          "output_type": "execute_result",
          "data": {
            "text/plain": [
              "RandomForestRegressor(random_state=42)"
            ],
            "text/html": [
              "<style>#sk-container-id-5 {color: black;background-color: white;}#sk-container-id-5 pre{padding: 0;}#sk-container-id-5 div.sk-toggleable {background-color: white;}#sk-container-id-5 label.sk-toggleable__label {cursor: pointer;display: block;width: 100%;margin-bottom: 0;padding: 0.3em;box-sizing: border-box;text-align: center;}#sk-container-id-5 label.sk-toggleable__label-arrow:before {content: \"▸\";float: left;margin-right: 0.25em;color: #696969;}#sk-container-id-5 label.sk-toggleable__label-arrow:hover:before {color: black;}#sk-container-id-5 div.sk-estimator:hover label.sk-toggleable__label-arrow:before {color: black;}#sk-container-id-5 div.sk-toggleable__content {max-height: 0;max-width: 0;overflow: hidden;text-align: left;background-color: #f0f8ff;}#sk-container-id-5 div.sk-toggleable__content pre {margin: 0.2em;color: black;border-radius: 0.25em;background-color: #f0f8ff;}#sk-container-id-5 input.sk-toggleable__control:checked~div.sk-toggleable__content {max-height: 200px;max-width: 100%;overflow: auto;}#sk-container-id-5 input.sk-toggleable__control:checked~label.sk-toggleable__label-arrow:before {content: \"▾\";}#sk-container-id-5 div.sk-estimator input.sk-toggleable__control:checked~label.sk-toggleable__label {background-color: #d4ebff;}#sk-container-id-5 div.sk-label input.sk-toggleable__control:checked~label.sk-toggleable__label {background-color: #d4ebff;}#sk-container-id-5 input.sk-hidden--visually {border: 0;clip: rect(1px 1px 1px 1px);clip: rect(1px, 1px, 1px, 1px);height: 1px;margin: -1px;overflow: hidden;padding: 0;position: absolute;width: 1px;}#sk-container-id-5 div.sk-estimator {font-family: monospace;background-color: #f0f8ff;border: 1px dotted black;border-radius: 0.25em;box-sizing: border-box;margin-bottom: 0.5em;}#sk-container-id-5 div.sk-estimator:hover {background-color: #d4ebff;}#sk-container-id-5 div.sk-parallel-item::after {content: \"\";width: 100%;border-bottom: 1px solid gray;flex-grow: 1;}#sk-container-id-5 div.sk-label:hover label.sk-toggleable__label {background-color: #d4ebff;}#sk-container-id-5 div.sk-serial::before {content: \"\";position: absolute;border-left: 1px solid gray;box-sizing: border-box;top: 0;bottom: 0;left: 50%;z-index: 0;}#sk-container-id-5 div.sk-serial {display: flex;flex-direction: column;align-items: center;background-color: white;padding-right: 0.2em;padding-left: 0.2em;position: relative;}#sk-container-id-5 div.sk-item {position: relative;z-index: 1;}#sk-container-id-5 div.sk-parallel {display: flex;align-items: stretch;justify-content: center;background-color: white;position: relative;}#sk-container-id-5 div.sk-item::before, #sk-container-id-5 div.sk-parallel-item::before {content: \"\";position: absolute;border-left: 1px solid gray;box-sizing: border-box;top: 0;bottom: 0;left: 50%;z-index: -1;}#sk-container-id-5 div.sk-parallel-item {display: flex;flex-direction: column;z-index: 1;position: relative;background-color: white;}#sk-container-id-5 div.sk-parallel-item:first-child::after {align-self: flex-end;width: 50%;}#sk-container-id-5 div.sk-parallel-item:last-child::after {align-self: flex-start;width: 50%;}#sk-container-id-5 div.sk-parallel-item:only-child::after {width: 0;}#sk-container-id-5 div.sk-dashed-wrapped {border: 1px dashed gray;margin: 0 0.4em 0.5em 0.4em;box-sizing: border-box;padding-bottom: 0.4em;background-color: white;}#sk-container-id-5 div.sk-label label {font-family: monospace;font-weight: bold;display: inline-block;line-height: 1.2em;}#sk-container-id-5 div.sk-label-container {text-align: center;}#sk-container-id-5 div.sk-container {/* jupyter's `normalize.less` sets `[hidden] { display: none; }` but bootstrap.min.css set `[hidden] { display: none !important; }` so we also need the `!important` here to be able to override the default hidden behavior on the sphinx rendered scikit-learn.org. See: https://github.com/scikit-learn/scikit-learn/issues/21755 */display: inline-block !important;position: relative;}#sk-container-id-5 div.sk-text-repr-fallback {display: none;}</style><div id=\"sk-container-id-5\" class=\"sk-top-container\"><div class=\"sk-text-repr-fallback\"><pre>RandomForestRegressor(random_state=42)</pre><b>In a Jupyter environment, please rerun this cell to show the HTML representation or trust the notebook. <br />On GitHub, the HTML representation is unable to render, please try loading this page with nbviewer.org.</b></div><div class=\"sk-container\" hidden><div class=\"sk-item\"><div class=\"sk-estimator sk-toggleable\"><input class=\"sk-toggleable__control sk-hidden--visually\" id=\"sk-estimator-id-5\" type=\"checkbox\" checked><label for=\"sk-estimator-id-5\" class=\"sk-toggleable__label sk-toggleable__label-arrow\">RandomForestRegressor</label><div class=\"sk-toggleable__content\"><pre>RandomForestRegressor(random_state=42)</pre></div></div></div></div></div>"
            ]
          },
          "metadata": {},
          "execution_count": 217
        }
      ]
    },
    {
      "cell_type": "code",
      "source": [
        "RandomForestRegressor(random_state=42)"
      ],
      "metadata": {
        "colab": {
          "base_uri": "https://localhost:8080/",
          "height": 75
        },
        "id": "XGt-9tjVwaYb",
        "outputId": "85c0d2d4-9c8e-43e0-9313-cee99f59e6ef"
      },
      "execution_count": null,
      "outputs": [
        {
          "output_type": "execute_result",
          "data": {
            "text/plain": [
              "RandomForestRegressor(random_state=42)"
            ],
            "text/html": [
              "<style>#sk-container-id-6 {color: black;background-color: white;}#sk-container-id-6 pre{padding: 0;}#sk-container-id-6 div.sk-toggleable {background-color: white;}#sk-container-id-6 label.sk-toggleable__label {cursor: pointer;display: block;width: 100%;margin-bottom: 0;padding: 0.3em;box-sizing: border-box;text-align: center;}#sk-container-id-6 label.sk-toggleable__label-arrow:before {content: \"▸\";float: left;margin-right: 0.25em;color: #696969;}#sk-container-id-6 label.sk-toggleable__label-arrow:hover:before {color: black;}#sk-container-id-6 div.sk-estimator:hover label.sk-toggleable__label-arrow:before {color: black;}#sk-container-id-6 div.sk-toggleable__content {max-height: 0;max-width: 0;overflow: hidden;text-align: left;background-color: #f0f8ff;}#sk-container-id-6 div.sk-toggleable__content pre {margin: 0.2em;color: black;border-radius: 0.25em;background-color: #f0f8ff;}#sk-container-id-6 input.sk-toggleable__control:checked~div.sk-toggleable__content {max-height: 200px;max-width: 100%;overflow: auto;}#sk-container-id-6 input.sk-toggleable__control:checked~label.sk-toggleable__label-arrow:before {content: \"▾\";}#sk-container-id-6 div.sk-estimator input.sk-toggleable__control:checked~label.sk-toggleable__label {background-color: #d4ebff;}#sk-container-id-6 div.sk-label input.sk-toggleable__control:checked~label.sk-toggleable__label {background-color: #d4ebff;}#sk-container-id-6 input.sk-hidden--visually {border: 0;clip: rect(1px 1px 1px 1px);clip: rect(1px, 1px, 1px, 1px);height: 1px;margin: -1px;overflow: hidden;padding: 0;position: absolute;width: 1px;}#sk-container-id-6 div.sk-estimator {font-family: monospace;background-color: #f0f8ff;border: 1px dotted black;border-radius: 0.25em;box-sizing: border-box;margin-bottom: 0.5em;}#sk-container-id-6 div.sk-estimator:hover {background-color: #d4ebff;}#sk-container-id-6 div.sk-parallel-item::after {content: \"\";width: 100%;border-bottom: 1px solid gray;flex-grow: 1;}#sk-container-id-6 div.sk-label:hover label.sk-toggleable__label {background-color: #d4ebff;}#sk-container-id-6 div.sk-serial::before {content: \"\";position: absolute;border-left: 1px solid gray;box-sizing: border-box;top: 0;bottom: 0;left: 50%;z-index: 0;}#sk-container-id-6 div.sk-serial {display: flex;flex-direction: column;align-items: center;background-color: white;padding-right: 0.2em;padding-left: 0.2em;position: relative;}#sk-container-id-6 div.sk-item {position: relative;z-index: 1;}#sk-container-id-6 div.sk-parallel {display: flex;align-items: stretch;justify-content: center;background-color: white;position: relative;}#sk-container-id-6 div.sk-item::before, #sk-container-id-6 div.sk-parallel-item::before {content: \"\";position: absolute;border-left: 1px solid gray;box-sizing: border-box;top: 0;bottom: 0;left: 50%;z-index: -1;}#sk-container-id-6 div.sk-parallel-item {display: flex;flex-direction: column;z-index: 1;position: relative;background-color: white;}#sk-container-id-6 div.sk-parallel-item:first-child::after {align-self: flex-end;width: 50%;}#sk-container-id-6 div.sk-parallel-item:last-child::after {align-self: flex-start;width: 50%;}#sk-container-id-6 div.sk-parallel-item:only-child::after {width: 0;}#sk-container-id-6 div.sk-dashed-wrapped {border: 1px dashed gray;margin: 0 0.4em 0.5em 0.4em;box-sizing: border-box;padding-bottom: 0.4em;background-color: white;}#sk-container-id-6 div.sk-label label {font-family: monospace;font-weight: bold;display: inline-block;line-height: 1.2em;}#sk-container-id-6 div.sk-label-container {text-align: center;}#sk-container-id-6 div.sk-container {/* jupyter's `normalize.less` sets `[hidden] { display: none; }` but bootstrap.min.css set `[hidden] { display: none !important; }` so we also need the `!important` here to be able to override the default hidden behavior on the sphinx rendered scikit-learn.org. See: https://github.com/scikit-learn/scikit-learn/issues/21755 */display: inline-block !important;position: relative;}#sk-container-id-6 div.sk-text-repr-fallback {display: none;}</style><div id=\"sk-container-id-6\" class=\"sk-top-container\"><div class=\"sk-text-repr-fallback\"><pre>RandomForestRegressor(random_state=42)</pre><b>In a Jupyter environment, please rerun this cell to show the HTML representation or trust the notebook. <br />On GitHub, the HTML representation is unable to render, please try loading this page with nbviewer.org.</b></div><div class=\"sk-container\" hidden><div class=\"sk-item\"><div class=\"sk-estimator sk-toggleable\"><input class=\"sk-toggleable__control sk-hidden--visually\" id=\"sk-estimator-id-6\" type=\"checkbox\" checked><label for=\"sk-estimator-id-6\" class=\"sk-toggleable__label sk-toggleable__label-arrow\">RandomForestRegressor</label><div class=\"sk-toggleable__content\"><pre>RandomForestRegressor(random_state=42)</pre></div></div></div></div></div>"
            ]
          },
          "metadata": {},
          "execution_count": 218
        }
      ]
    },
    {
      "cell_type": "code",
      "source": [
        "y_pred = rf_model.predict(X_test)\n",
        "print('Test R2 score:', r2_score(y_test, y_pred))\n",
        "print('Test MSE score:', mean_squared_error(y_test, y_pred))\n"
      ],
      "metadata": {
        "colab": {
          "base_uri": "https://localhost:8080/"
        },
        "id": "pJ8OLIy3wakH",
        "outputId": "dcfcda0e-497c-4d91-8454-28d4b962352a"
      },
      "execution_count": null,
      "outputs": [
        {
          "output_type": "stream",
          "name": "stdout",
          "text": [
            "Test R2 score: 0.4129927158336564\n",
            "Test MSE score: 54610.09790501448\n"
          ]
        }
      ]
    },
    {
      "cell_type": "code",
      "source": [
        "importances = pd.Series(rf_model.feature_importances_, index=X.columns)\n",
        "print(importances)\n",
        "importances.plot(kind='barh')\n",
        "plt.show()\n"
      ],
      "metadata": {
        "colab": {
          "base_uri": "https://localhost:8080/",
          "height": 552
        },
        "id": "4i36QJmawMO6",
        "outputId": "0e244c94-2e7c-45a1-f8ea-21f224ac169a"
      },
      "execution_count": null,
      "outputs": [
        {
          "output_type": "stream",
          "name": "stdout",
          "text": [
            "cleanliness_rating            0.187123\n",
            "guest_satisfaction_overall    0.225379\n",
            "bedrooms                      0.259983\n",
            "metro_dist                    0.307785\n",
            "host_is_superhost_False       0.007214\n",
            "host_is_superhost_True        0.012516\n",
            "dtype: float64\n"
          ]
        },
        {
          "output_type": "display_data",
          "data": {
            "text/plain": [
              "<Figure size 640x480 with 1 Axes>"
            ],
            "image/png": "[encoded data removed]"
          },
          "metadata": {}
        }
      ]
    },
    {
      "cell_type": "code",
      "source": [
        "# RF Model\n",
        "rf_modelWithoob = RandomForestRegressor(random_state=42, oob_score=True)\n",
        "\n",
        "# RF model fit with OOB\n",
        "rf_modelWithoob.fit(X_train, y_train)\n",
        "\n",
        "# Evaluate OOB score\n",
        "print('OOB R2 score:', rf_modelWithoob.oob_score_)\n",
        "print('OOB MSE score:', mean_squared_error(y_train, rf_modelWithoob.oob_prediction_))\n",
        "\n",
        "# Obtain feature importances and plot them\n",
        "importances = pd.Series(rf_modelWithoob.feature_importances_, index=X.columns)\n",
        "print(importances)\n",
        "importances.plot(kind='barh')\n",
        "plt.show()"
      ],
      "metadata": {
        "colab": {
          "base_uri": "https://localhost:8080/",
          "height": 586
        },
        "id": "kT5h_IPUxc-U",
        "outputId": "c190f763-be19-4151-f2fc-f603fefb122b"
      },
      "execution_count": null,
      "outputs": [
        {
          "output_type": "stream",
          "name": "stdout",
          "text": [
            "OOB R2 score: -0.2488451679190231\n",
            "OOB MSE score: 334288.952381904\n",
            "cleanliness_rating            0.187123\n",
            "guest_satisfaction_overall    0.225379\n",
            "bedrooms                      0.259983\n",
            "metro_dist                    0.307785\n",
            "host_is_superhost_False       0.007214\n",
            "host_is_superhost_True        0.012516\n",
            "dtype: float64\n"
          ]
        },
        {
          "output_type": "display_data",
          "data": {
            "text/plain": [
              "<Figure size 640x480 with 1 Axes>"
            ],
            "image/png": "[encoded data removed]"
          },
          "metadata": {}
        }
      ]
    },
    {
      "cell_type": "code",
      "source": [
        "param_grid = {\n",
        "    'n_estimators': [5, 10, 15, 20]\n",
        "    #,'max_depth': [None, 2, 5, 10], 'min_samples_split': [2, 5, 10], 'min_samples_leaf': [1, 2, 4], 'max_features': ['auto', 'sqrt', 'log2']\n",
        "}\n"
      ],
      "metadata": {
        "id": "jh0HhCNwxdCb"
      },
      "execution_count": null,
      "outputs": []
    },
    {
      "cell_type": "code",
      "source": [
        "scoring = {'R2': 'r2', 'MSE': 'neg_mean_squared_error'}\n",
        "print(scoring)\n"
      ],
      "metadata": {
        "id": "n_E0HOOqxdHG",
        "colab": {
          "base_uri": "https://localhost:8080/"
        },
        "outputId": "a4ab2a54-3523-478c-c70d-4ba5f0573b4d"
      },
      "execution_count": null,
      "outputs": [
        {
          "output_type": "stream",
          "name": "stdout",
          "text": [
            "{'R2': 'r2', 'MSE': 'neg_mean_squared_error'}\n"
          ]
        }
      ]
    },
    {
      "cell_type": "code",
      "source": [
        "grid_search = GridSearchCV(rf_model, param_grid=param_grid, cv=5, scoring=scoring, refit='R2')\n",
        "grid_search.fit(X_train, y_train)\n"
      ],
      "metadata": {
        "id": "6sPQo-QBxdJj",
        "colab": {
          "base_uri": "https://localhost:8080/",
          "height": 118
        },
        "outputId": "f42696c4-f7e0-4345-fc22-bf0524624bfa"
      },
      "execution_count": null,
      "outputs": [
        {
          "output_type": "execute_result",
          "data": {
            "text/plain": [
              "GridSearchCV(cv=5, estimator=RandomForestRegressor(random_state=42),\n",
              "             param_grid={'n_estimators': [5, 10, 15, 20]}, refit='R2',\n",
              "             scoring={'MSE': 'neg_mean_squared_error', 'R2': 'r2'})"
            ],
            "text/html": [
              "<style>#sk-container-id-7 {color: black;background-color: white;}#sk-container-id-7 pre{padding: 0;}#sk-container-id-7 div.sk-toggleable {background-color: white;}#sk-container-id-7 label.sk-toggleable__label {cursor: pointer;display: block;width: 100%;margin-bottom: 0;padding: 0.3em;box-sizing: border-box;text-align: center;}#sk-container-id-7 label.sk-toggleable__label-arrow:before {content: \"▸\";float: left;margin-right: 0.25em;color: #696969;}#sk-container-id-7 label.sk-toggleable__label-arrow:hover:before {color: black;}#sk-container-id-7 div.sk-estimator:hover label.sk-toggleable__label-arrow:before {color: black;}#sk-container-id-7 div.sk-toggleable__content {max-height: 0;max-width: 0;overflow: hidden;text-align: left;background-color: #f0f8ff;}#sk-container-id-7 div.sk-toggleable__content pre {margin: 0.2em;color: black;border-radius: 0.25em;background-color: #f0f8ff;}#sk-container-id-7 input.sk-toggleable__control:checked~div.sk-toggleable__content {max-height: 200px;max-width: 100%;overflow: auto;}#sk-container-id-7 input.sk-toggleable__control:checked~label.sk-toggleable__label-arrow:before {content: \"▾\";}#sk-container-id-7 div.sk-estimator input.sk-toggleable__control:checked~label.sk-toggleable__label {background-color: #d4ebff;}#sk-container-id-7 div.sk-label input.sk-toggleable__control:checked~label.sk-toggleable__label {background-color: #d4ebff;}#sk-container-id-7 input.sk-hidden--visually {border: 0;clip: rect(1px 1px 1px 1px);clip: rect(1px, 1px, 1px, 1px);height: 1px;margin: -1px;overflow: hidden;padding: 0;position: absolute;width: 1px;}#sk-container-id-7 div.sk-estimator {font-family: monospace;background-color: #f0f8ff;border: 1px dotted black;border-radius: 0.25em;box-sizing: border-box;margin-bottom: 0.5em;}#sk-container-id-7 div.sk-estimator:hover {background-color: #d4ebff;}#sk-container-id-7 div.sk-parallel-item::after {content: \"\";width: 100%;border-bottom: 1px solid gray;flex-grow: 1;}#sk-container-id-7 div.sk-label:hover label.sk-toggleable__label {background-color: #d4ebff;}#sk-container-id-7 div.sk-serial::before {content: \"\";position: absolute;border-left: 1px solid gray;box-sizing: border-box;top: 0;bottom: 0;left: 50%;z-index: 0;}#sk-container-id-7 div.sk-serial {display: flex;flex-direction: column;align-items: center;background-color: white;padding-right: 0.2em;padding-left: 0.2em;position: relative;}#sk-container-id-7 div.sk-item {position: relative;z-index: 1;}#sk-container-id-7 div.sk-parallel {display: flex;align-items: stretch;justify-content: center;background-color: white;position: relative;}#sk-container-id-7 div.sk-item::before, #sk-container-id-7 div.sk-parallel-item::before {content: \"\";position: absolute;border-left: 1px solid gray;box-sizing: border-box;top: 0;bottom: 0;left: 50%;z-index: -1;}#sk-container-id-7 div.sk-parallel-item {display: flex;flex-direction: column;z-index: 1;position: relative;background-color: white;}#sk-container-id-7 div.sk-parallel-item:first-child::after {align-self: flex-end;width: 50%;}#sk-container-id-7 div.sk-parallel-item:last-child::after {align-self: flex-start;width: 50%;}#sk-container-id-7 div.sk-parallel-item:only-child::after {width: 0;}#sk-container-id-7 div.sk-dashed-wrapped {border: 1px dashed gray;margin: 0 0.4em 0.5em 0.4em;box-sizing: border-box;padding-bottom: 0.4em;background-color: white;}#sk-container-id-7 div.sk-label label {font-family: monospace;font-weight: bold;display: inline-block;line-height: 1.2em;}#sk-container-id-7 div.sk-label-container {text-align: center;}#sk-container-id-7 div.sk-container {/* jupyter's `normalize.less` sets `[hidden] { display: none; }` but bootstrap.min.css set `[hidden] { display: none !important; }` so we also need the `!important` here to be able to override the default hidden behavior on the sphinx rendered scikit-learn.org. See: https://github.com/scikit-learn/scikit-learn/issues/21755 */display: inline-block !important;position: relative;}#sk-container-id-7 div.sk-text-repr-fallback {display: none;}</style><div id=\"sk-container-id-7\" class=\"sk-top-container\"><div class=\"sk-text-repr-fallback\"><pre>GridSearchCV(cv=5, estimator=RandomForestRegressor(random_state=42),\n",
              "             param_grid={&#x27;n_estimators&#x27;: [5, 10, 15, 20]}, refit=&#x27;R2&#x27;,\n",
              "             scoring={&#x27;MSE&#x27;: &#x27;neg_mean_squared_error&#x27;, &#x27;R2&#x27;: &#x27;r2&#x27;})</pre><b>In a Jupyter environment, please rerun this cell to show the HTML representation or trust the notebook. <br />On GitHub, the HTML representation is unable to render, please try loading this page with nbviewer.org.</b></div><div class=\"sk-container\" hidden><div class=\"sk-item sk-dashed-wrapped\"><div class=\"sk-label-container\"><div class=\"sk-label sk-toggleable\"><input class=\"sk-toggleable__control sk-hidden--visually\" id=\"sk-estimator-id-7\" type=\"checkbox\" ><label for=\"sk-estimator-id-7\" class=\"sk-toggleable__label sk-toggleable__label-arrow\">GridSearchCV</label><div class=\"sk-toggleable__content\"><pre>GridSearchCV(cv=5, estimator=RandomForestRegressor(random_state=42),\n",
              "             param_grid={&#x27;n_estimators&#x27;: [5, 10, 15, 20]}, refit=&#x27;R2&#x27;,\n",
              "             scoring={&#x27;MSE&#x27;: &#x27;neg_mean_squared_error&#x27;, &#x27;R2&#x27;: &#x27;r2&#x27;})</pre></div></div></div><div class=\"sk-parallel\"><div class=\"sk-parallel-item\"><div class=\"sk-item\"><div class=\"sk-label-container\"><div class=\"sk-label sk-toggleable\"><input class=\"sk-toggleable__control sk-hidden--visually\" id=\"sk-estimator-id-8\" type=\"checkbox\" ><label for=\"sk-estimator-id-8\" class=\"sk-toggleable__label sk-toggleable__label-arrow\">estimator: RandomForestRegressor</label><div class=\"sk-toggleable__content\"><pre>RandomForestRegressor(random_state=42)</pre></div></div></div><div class=\"sk-serial\"><div class=\"sk-item\"><div class=\"sk-estimator sk-toggleable\"><input class=\"sk-toggleable__control sk-hidden--visually\" id=\"sk-estimator-id-9\" type=\"checkbox\" ><label for=\"sk-estimator-id-9\" class=\"sk-toggleable__label sk-toggleable__label-arrow\">RandomForestRegressor</label><div class=\"sk-toggleable__content\"><pre>RandomForestRegressor(random_state=42)</pre></div></div></div></div></div></div></div></div></div></div>"
            ]
          },
          "metadata": {},
          "execution_count": 224
        }
      ]
    },
    {
      "cell_type": "code",
      "source": [
        "GridSearchCV(cv=5, estimator=RandomForestRegressor(random_state=42),\n",
        "             param_grid={'n_estimators': [5, 10, 15, 20]}, refit='R2',\n",
        "             scoring={'MSE': 'neg_mean_squared_error', 'R2': 'r2'})\n"
      ],
      "metadata": {
        "colab": {
          "base_uri": "https://localhost:8080/",
          "height": 118
        },
        "id": "qdU67iBb0okt",
        "outputId": "75ee1c38-c986-432e-b5f9-66a1b6a2dfd9"
      },
      "execution_count": null,
      "outputs": [
        {
          "output_type": "execute_result",
          "data": {
            "text/plain": [
              "GridSearchCV(cv=5, estimator=RandomForestRegressor(random_state=42),\n",
              "             param_grid={'n_estimators': [5, 10, 15, 20]}, refit='R2',\n",
              "             scoring={'MSE': 'neg_mean_squared_error', 'R2': 'r2'})"
            ],
            "text/html": [
              "<style>#sk-container-id-8 {color: black;background-color: white;}#sk-container-id-8 pre{padding: 0;}#sk-container-id-8 div.sk-toggleable {background-color: white;}#sk-container-id-8 label.sk-toggleable__label {cursor: pointer;display: block;width: 100%;margin-bottom: 0;padding: 0.3em;box-sizing: border-box;text-align: center;}#sk-container-id-8 label.sk-toggleable__label-arrow:before {content: \"▸\";float: left;margin-right: 0.25em;color: #696969;}#sk-container-id-8 label.sk-toggleable__label-arrow:hover:before {color: black;}#sk-container-id-8 div.sk-estimator:hover label.sk-toggleable__label-arrow:before {color: black;}#sk-container-id-8 div.sk-toggleable__content {max-height: 0;max-width: 0;overflow: hidden;text-align: left;background-color: #f0f8ff;}#sk-container-id-8 div.sk-toggleable__content pre {margin: 0.2em;color: black;border-radius: 0.25em;background-color: #f0f8ff;}#sk-container-id-8 input.sk-toggleable__control:checked~div.sk-toggleable__content {max-height: 200px;max-width: 100%;overflow: auto;}#sk-container-id-8 input.sk-toggleable__control:checked~label.sk-toggleable__label-arrow:before {content: \"▾\";}#sk-container-id-8 div.sk-estimator input.sk-toggleable__control:checked~label.sk-toggleable__label {background-color: #d4ebff;}#sk-container-id-8 div.sk-label input.sk-toggleable__control:checked~label.sk-toggleable__label {background-color: #d4ebff;}#sk-container-id-8 input.sk-hidden--visually {border: 0;clip: rect(1px 1px 1px 1px);clip: rect(1px, 1px, 1px, 1px);height: 1px;margin: -1px;overflow: hidden;padding: 0;position: absolute;width: 1px;}#sk-container-id-8 div.sk-estimator {font-family: monospace;background-color: #f0f8ff;border: 1px dotted black;border-radius: 0.25em;box-sizing: border-box;margin-bottom: 0.5em;}#sk-container-id-8 div.sk-estimator:hover {background-color: #d4ebff;}#sk-container-id-8 div.sk-parallel-item::after {content: \"\";width: 100%;border-bottom: 1px solid gray;flex-grow: 1;}#sk-container-id-8 div.sk-label:hover label.sk-toggleable__label {background-color: #d4ebff;}#sk-container-id-8 div.sk-serial::before {content: \"\";position: absolute;border-left: 1px solid gray;box-sizing: border-box;top: 0;bottom: 0;left: 50%;z-index: 0;}#sk-container-id-8 div.sk-serial {display: flex;flex-direction: column;align-items: center;background-color: white;padding-right: 0.2em;padding-left: 0.2em;position: relative;}#sk-container-id-8 div.sk-item {position: relative;z-index: 1;}#sk-container-id-8 div.sk-parallel {display: flex;align-items: stretch;justify-content: center;background-color: white;position: relative;}#sk-container-id-8 div.sk-item::before, #sk-container-id-8 div.sk-parallel-item::before {content: \"\";position: absolute;border-left: 1px solid gray;box-sizing: border-box;top: 0;bottom: 0;left: 50%;z-index: -1;}#sk-container-id-8 div.sk-parallel-item {display: flex;flex-direction: column;z-index: 1;position: relative;background-color: white;}#sk-container-id-8 div.sk-parallel-item:first-child::after {align-self: flex-end;width: 50%;}#sk-container-id-8 div.sk-parallel-item:last-child::after {align-self: flex-start;width: 50%;}#sk-container-id-8 div.sk-parallel-item:only-child::after {width: 0;}#sk-container-id-8 div.sk-dashed-wrapped {border: 1px dashed gray;margin: 0 0.4em 0.5em 0.4em;box-sizing: border-box;padding-bottom: 0.4em;background-color: white;}#sk-container-id-8 div.sk-label label {font-family: monospace;font-weight: bold;display: inline-block;line-height: 1.2em;}#sk-container-id-8 div.sk-label-container {text-align: center;}#sk-container-id-8 div.sk-container {/* jupyter's `normalize.less` sets `[hidden] { display: none; }` but bootstrap.min.css set `[hidden] { display: none !important; }` so we also need the `!important` here to be able to override the default hidden behavior on the sphinx rendered scikit-learn.org. See: https://github.com/scikit-learn/scikit-learn/issues/21755 */display: inline-block !important;position: relative;}#sk-container-id-8 div.sk-text-repr-fallback {display: none;}</style><div id=\"sk-container-id-8\" class=\"sk-top-container\"><div class=\"sk-text-repr-fallback\"><pre>GridSearchCV(cv=5, estimator=RandomForestRegressor(random_state=42),\n",
              "             param_grid={&#x27;n_estimators&#x27;: [5, 10, 15, 20]}, refit=&#x27;R2&#x27;,\n",
              "             scoring={&#x27;MSE&#x27;: &#x27;neg_mean_squared_error&#x27;, &#x27;R2&#x27;: &#x27;r2&#x27;})</pre><b>In a Jupyter environment, please rerun this cell to show the HTML representation or trust the notebook. <br />On GitHub, the HTML representation is unable to render, please try loading this page with nbviewer.org.</b></div><div class=\"sk-container\" hidden><div class=\"sk-item sk-dashed-wrapped\"><div class=\"sk-label-container\"><div class=\"sk-label sk-toggleable\"><input class=\"sk-toggleable__control sk-hidden--visually\" id=\"sk-estimator-id-10\" type=\"checkbox\" ><label for=\"sk-estimator-id-10\" class=\"sk-toggleable__label sk-toggleable__label-arrow\">GridSearchCV</label><div class=\"sk-toggleable__content\"><pre>GridSearchCV(cv=5, estimator=RandomForestRegressor(random_state=42),\n",
              "             param_grid={&#x27;n_estimators&#x27;: [5, 10, 15, 20]}, refit=&#x27;R2&#x27;,\n",
              "             scoring={&#x27;MSE&#x27;: &#x27;neg_mean_squared_error&#x27;, &#x27;R2&#x27;: &#x27;r2&#x27;})</pre></div></div></div><div class=\"sk-parallel\"><div class=\"sk-parallel-item\"><div class=\"sk-item\"><div class=\"sk-label-container\"><div class=\"sk-label sk-toggleable\"><input class=\"sk-toggleable__control sk-hidden--visually\" id=\"sk-estimator-id-11\" type=\"checkbox\" ><label for=\"sk-estimator-id-11\" class=\"sk-toggleable__label sk-toggleable__label-arrow\">estimator: RandomForestRegressor</label><div class=\"sk-toggleable__content\"><pre>RandomForestRegressor(random_state=42)</pre></div></div></div><div class=\"sk-serial\"><div class=\"sk-item\"><div class=\"sk-estimator sk-toggleable\"><input class=\"sk-toggleable__control sk-hidden--visually\" id=\"sk-estimator-id-12\" type=\"checkbox\" ><label for=\"sk-estimator-id-12\" class=\"sk-toggleable__label sk-toggleable__label-arrow\">RandomForestRegressor</label><div class=\"sk-toggleable__content\"><pre>RandomForestRegressor(random_state=42)</pre></div></div></div></div></div></div></div></div></div></div>"
            ]
          },
          "metadata": {},
          "execution_count": 225
        }
      ]
    },
    {
      "cell_type": "code",
      "source": [
        "y_pred = grid_search.predict(X_test)\n",
        "print('Test R2 score:', r2_score(y_test, y_pred))\n",
        "print('Test MSE score:', mean_squared_error(y_test, y_pred))\n"
      ],
      "metadata": {
        "colab": {
          "base_uri": "https://localhost:8080/"
        },
        "id": "TJufM3-50yWb",
        "outputId": "06666831-cf2e-4123-e39a-11a2efd66151"
      },
      "execution_count": null,
      "outputs": [
        {
          "output_type": "stream",
          "name": "stdout",
          "text": [
            "Test R2 score: 0.3548382377758381\n",
            "Test MSE score: 60020.28927063393\n"
          ]
        }
      ]
    },
    {
      "cell_type": "code",
      "source": [
        "print('Best hyperparameters:', grid_search.best_params_)\n",
        "print('Best R2 score:', grid_search.best_score_)\n",
        "print('Best MSE score:', abs(grid_search.cv_results_['mean_test_MSE'][grid_search.best_index_]))\n"
      ],
      "metadata": {
        "colab": {
          "base_uri": "https://localhost:8080/"
        },
        "id": "MI2LB7Bj0yfX",
        "outputId": "ae2a49fe-32fe-445b-8688-fde3772c74ed"
      },
      "execution_count": null,
      "outputs": [
        {
          "output_type": "stream",
          "name": "stdout",
          "text": [
            "Best hyperparameters: {'n_estimators': 20}\n",
            "Best R2 score: -0.9296597965564141\n",
            "Best MSE score: 363522.5102574398\n"
          ]
        }
      ]
    },
    {
      "cell_type": "code",
      "source": [
        "importances = pd.Series(grid_search.best_estimator_.feature_importances_, index=X.columns)\n",
        "print(importances)\n",
        "importances.plot(kind='barh')\n",
        "plt.show()\n"
      ],
      "metadata": {
        "colab": {
          "base_uri": "https://localhost:8080/",
          "height": 552
        },
        "id": "e43D1CBJ0yox",
        "outputId": "9d5ed8c0-a35d-45eb-86ba-3387cb79af47"
      },
      "execution_count": null,
      "outputs": [
        {
          "output_type": "stream",
          "name": "stdout",
          "text": [
            "cleanliness_rating            0.153557\n",
            "guest_satisfaction_overall    0.277056\n",
            "bedrooms                      0.254758\n",
            "metro_dist                    0.297636\n",
            "host_is_superhost_False       0.003471\n",
            "host_is_superhost_True        0.013523\n",
            "dtype: float64\n"
          ]
        },
        {
          "output_type": "display_data",
          "data": {
            "text/plain": [
              "<Figure size 640x480 with 1 Axes>"
            ],
            "image/png": "[encoded data removed]"
          },
          "metadata": {}
        }
      ]
    },
    {
      "cell_type": "code",
      "source": [],
      "metadata": {
        "id": "vK8jud4L0or1"
      },
      "execution_count": null,
      "outputs": []
    }
  ]
}